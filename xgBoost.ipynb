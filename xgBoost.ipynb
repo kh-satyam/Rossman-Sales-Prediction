{
 "cells": [
  {
   "cell_type": "code",
   "execution_count": 12,
   "metadata": {},
   "outputs": [
    {
     "name": "stderr",
     "output_type": "stream",
     "text": [
      "C:\\Users\\satyam\\AppData\\Local\\Continuum\\anaconda3\\lib\\site-packages\\sklearn\\cross_validation.py:41: DeprecationWarning: This module was deprecated in version 0.18 in favor of the model_selection module into which all the refactored classes and functions are moved. Also note that the interface of the new CV iterators are different from that of this module. This module will be removed in 0.20.\n",
      "  \"This module will be removed in 0.20.\", DeprecationWarning)\n"
     ]
    }
   ],
   "source": [
    "import pandas as pd\n",
    "import numpy as np\n",
    "from sklearn.ensemble import RandomForestRegressor\n",
    "from sklearn.ensemble import GradientBoostingRegressor\n",
    "import xgboost\n",
    "from sklearn.cross_validation import train_test_split"
   ]
  },
  {
   "cell_type": "code",
   "execution_count": 2,
   "metadata": {},
   "outputs": [],
   "source": [
    "train_data=pd.read_csv(\"train_data_processed.csv\")\n",
    "test_data=pd.read_csv(\"test_data_processed.csv\")"
   ]
  },
  {
   "cell_type": "code",
   "execution_count": 3,
   "metadata": {},
   "outputs": [],
   "source": [
    "def build_features(data):\n",
    "    data = data[data[\"Open\"] != 0]\n",
    "    data = data[data[\"Sales\"] >0]\n",
    "    features=['Store','CompetitionDistance','Promo','Promo2','SchoolHoliday','StoreType','Assortment','StateHoliday','DayOfWeek',\n",
    "              'Month', 'Day', 'Year', 'WeekOfYear','CompetitionOpenSinceMonth','PromoOpen','IsPromoMonth','Customers']\n",
    "    return data,features\n",
    "train_data,features=build_features(train_data)"
   ]
  },
  {
   "cell_type": "code",
   "execution_count": 4,
   "metadata": {},
   "outputs": [
    {
     "data": {
      "text/plain": [
       "XGBRegressor(base_score=0.5, booster='gbtree', colsample_bylevel=1,\n",
       "       colsample_bytree=1, gamma=0, learning_rate=0.1, max_delta_step=0,\n",
       "       max_depth=3, min_child_weight=1, missing=None, n_estimators=100,\n",
       "       n_jobs=1, nthread=None, objective='reg:linear', random_state=0,\n",
       "       reg_alpha=0, reg_lambda=1, scale_pos_weight=1, seed=None,\n",
       "       silent=True, subsample=1)"
      ]
     },
     "execution_count": 4,
     "metadata": {},
     "output_type": "execute_result"
    }
   ],
   "source": [
    "xg_model=xgboost.XGBRegressor()\n",
    "xg_model.fit(train_data[features].values,train_data['Sales'].values)"
   ]
  },
  {
   "cell_type": "code",
   "execution_count": 5,
   "metadata": {},
   "outputs": [],
   "source": [
    "predictions=xg_model.predict(test_data[features].values)"
   ]
  },
  {
   "cell_type": "code",
   "execution_count": 7,
   "metadata": {},
   "outputs": [
    {
     "name": "stderr",
     "output_type": "stream",
     "text": [
      "C:\\Users\\satyam\\AppData\\Local\\Continuum\\anaconda3\\lib\\site-packages\\ipykernel_launcher.py:2: SettingWithCopyWarning: \n",
      "A value is trying to be set on a copy of a slice from a DataFrame.\n",
      "Try using .loc[row_indexer,col_indexer] = value instead\n",
      "\n",
      "See the caveats in the documentation: http://pandas.pydata.org/pandas-docs/stable/indexing.html#indexing-view-versus-copy\n",
      "  \n"
     ]
    }
   ],
   "source": [
    "result1=test_data[['Id']]\n",
    "result1[\"SalesX\"]=predictions\n",
    "result1.to_csv(\"Submission11.csv\")"
   ]
  },
  {
   "cell_type": "code",
   "execution_count": 19,
   "metadata": {},
   "outputs": [],
   "source": [
    "def rmspe(y, yhat):\n",
    "    return np.sqrt(np.mean((yhat/y-1) ** 2))\n",
    "\n",
    "def rmspe_xg(yhat, y):\n",
    "    y = np.expm1(y.get_label())\n",
    "    yhat = np.expm1(yhat)\n",
    "    return \"rmspe\", rmspe(y,yhat)"
   ]
  },
  {
   "cell_type": "code",
   "execution_count": 10,
   "metadata": {},
   "outputs": [],
   "source": [
    "params = {\"objective\": \"reg:linear\",\n",
    "          \"booster\" : \"gbtree\",\n",
    "          \"eta\": 0.3,\n",
    "          \"max_depth\": 10,\n",
    "          \"subsample\": 0.9,\n",
    "          \"colsample_bytree\": 0.7,\n",
    "          \"silent\": 1,\n",
    "          \"seed\": 1301\n",
    "          }\n",
    "num_boost_round = 300"
   ]
  },
  {
   "cell_type": "code",
   "execution_count": 32,
   "metadata": {},
   "outputs": [],
   "source": [
    "X_train, X_valid = train_test_split(train_data, test_size=0.012, random_state=10)"
   ]
  },
  {
   "cell_type": "code",
   "execution_count": 33,
   "metadata": {},
   "outputs": [
    {
     "ename": "AttributeError",
     "evalue": "'DataFrame' object has no attribute 'Sales'",
     "output_type": "error",
     "traceback": [
      "\u001b[1;31m---------------------------------------------------------------------------\u001b[0m",
      "\u001b[1;31mAttributeError\u001b[0m                            Traceback (most recent call last)",
      "\u001b[1;32m<ipython-input-33-233a1eaede80>\u001b[0m in \u001b[0;36m<module>\u001b[1;34m()\u001b[0m\n\u001b[1;32m----> 1\u001b[1;33m \u001b[0my_train\u001b[0m \u001b[1;33m=\u001b[0m \u001b[0mnp\u001b[0m\u001b[1;33m.\u001b[0m\u001b[0mlog1p\u001b[0m\u001b[1;33m(\u001b[0m\u001b[0mX_train\u001b[0m\u001b[1;33m.\u001b[0m\u001b[0mSales\u001b[0m\u001b[1;33m)\u001b[0m\u001b[1;33m\u001b[0m\u001b[0m\n\u001b[0m\u001b[0;32m      2\u001b[0m \u001b[0my_valid\u001b[0m \u001b[1;33m=\u001b[0m \u001b[0mnp\u001b[0m\u001b[1;33m.\u001b[0m\u001b[0mlog1p\u001b[0m\u001b[1;33m(\u001b[0m\u001b[0mX_valid\u001b[0m\u001b[1;33m.\u001b[0m\u001b[0mSales\u001b[0m\u001b[1;33m)\u001b[0m\u001b[1;33m\u001b[0m\u001b[0m\n",
      "\u001b[1;32m~\\AppData\\Local\\Continuum\\anaconda3\\lib\\site-packages\\pandas\\core\\generic.py\u001b[0m in \u001b[0;36m__getattr__\u001b[1;34m(self, name)\u001b[0m\n\u001b[0;32m   4374\u001b[0m             \u001b[1;32mif\u001b[0m \u001b[0mself\u001b[0m\u001b[1;33m.\u001b[0m\u001b[0m_info_axis\u001b[0m\u001b[1;33m.\u001b[0m\u001b[0m_can_hold_identifiers_and_holds_name\u001b[0m\u001b[1;33m(\u001b[0m\u001b[0mname\u001b[0m\u001b[1;33m)\u001b[0m\u001b[1;33m:\u001b[0m\u001b[1;33m\u001b[0m\u001b[0m\n\u001b[0;32m   4375\u001b[0m                 \u001b[1;32mreturn\u001b[0m \u001b[0mself\u001b[0m\u001b[1;33m[\u001b[0m\u001b[0mname\u001b[0m\u001b[1;33m]\u001b[0m\u001b[1;33m\u001b[0m\u001b[0m\n\u001b[1;32m-> 4376\u001b[1;33m             \u001b[1;32mreturn\u001b[0m \u001b[0mobject\u001b[0m\u001b[1;33m.\u001b[0m\u001b[0m__getattribute__\u001b[0m\u001b[1;33m(\u001b[0m\u001b[0mself\u001b[0m\u001b[1;33m,\u001b[0m \u001b[0mname\u001b[0m\u001b[1;33m)\u001b[0m\u001b[1;33m\u001b[0m\u001b[0m\n\u001b[0m\u001b[0;32m   4377\u001b[0m \u001b[1;33m\u001b[0m\u001b[0m\n\u001b[0;32m   4378\u001b[0m     \u001b[1;32mdef\u001b[0m \u001b[0m__setattr__\u001b[0m\u001b[1;33m(\u001b[0m\u001b[0mself\u001b[0m\u001b[1;33m,\u001b[0m \u001b[0mname\u001b[0m\u001b[1;33m,\u001b[0m \u001b[0mvalue\u001b[0m\u001b[1;33m)\u001b[0m\u001b[1;33m:\u001b[0m\u001b[1;33m\u001b[0m\u001b[0m\n",
      "\u001b[1;31mAttributeError\u001b[0m: 'DataFrame' object has no attribute 'Sales'"
     ]
    }
   ],
   "source": [
    "y_train = np.log1p(X_train.Sales)\n",
    "y_valid = np.log1p(X_valid.Sales)"
   ]
  },
  {
   "cell_type": "code",
   "execution_count": 16,
   "metadata": {},
   "outputs": [],
   "source": [
    "dtrain = xgboost.DMatrix(X_train[features], y_train)\n",
    "dvalid = xgboost.DMatrix(X_valid[features], y_valid)"
   ]
  },
  {
   "cell_type": "code",
   "execution_count": null,
   "metadata": {},
   "outputs": [],
   "source": []
  },
  {
   "cell_type": "code",
   "execution_count": 20,
   "metadata": {},
   "outputs": [
    {
     "name": "stdout",
     "output_type": "stream",
     "text": [
      "[0]\ttrain-rmse:5.79341\teval-rmse:5.79751\ttrain-rmspe:0.996844\teval-rmspe:0.996856\n",
      "Multiple eval metrics have been passed: 'eval-rmspe' will be used for early stopping.\n",
      "\n",
      "Will train until eval-rmspe hasn't improved in 100 rounds.\n",
      "[1]\ttrain-rmse:4.05724\teval-rmse:4.06034\ttrain-rmspe:0.981926\teval-rmspe:0.981972\n",
      "[2]\ttrain-rmse:2.84597\teval-rmse:2.84849\ttrain-rmspe:0.939258\teval-rmspe:0.939355\n",
      "[3]\ttrain-rmse:1.99521\teval-rmse:1.99702\ttrain-rmspe:0.859748\teval-rmspe:0.859918\n",
      "[4]\ttrain-rmse:1.39998\teval-rmse:1.40126\ttrain-rmspe:0.748099\teval-rmspe:0.74831\n",
      "[5]\ttrain-rmse:0.983923\teval-rmse:0.984881\ttrain-rmspe:0.620301\teval-rmspe:0.620516\n",
      "[6]\ttrain-rmse:0.696142\teval-rmse:0.697063\ttrain-rmspe:0.494205\teval-rmspe:0.49451\n",
      "[7]\ttrain-rmse:0.496972\teval-rmse:0.497926\ttrain-rmspe:0.383573\teval-rmspe:0.384009\n",
      "[8]\ttrain-rmse:0.361087\teval-rmse:0.362154\ttrain-rmspe:0.294871\teval-rmspe:0.295496\n",
      "[9]\ttrain-rmse:0.263963\teval-rmse:0.264713\ttrain-rmspe:0.225451\teval-rmspe:0.226041\n",
      "[10]\ttrain-rmse:0.203546\teval-rmse:0.204597\ttrain-rmspe:0.178806\teval-rmspe:0.179843\n",
      "[11]\ttrain-rmse:0.164864\teval-rmse:0.166337\ttrain-rmspe:0.148507\teval-rmspe:0.150105\n",
      "[12]\ttrain-rmse:0.140627\teval-rmse:0.142535\ttrain-rmspe:0.129852\teval-rmspe:0.132142\n",
      "[13]\ttrain-rmse:0.125656\teval-rmse:0.12768\ttrain-rmspe:0.118708\teval-rmspe:0.121127\n",
      "[14]\ttrain-rmse:0.111464\teval-rmse:0.113687\ttrain-rmspe:0.107148\teval-rmspe:0.109926\n",
      "[15]\ttrain-rmse:0.102484\teval-rmse:0.104913\ttrain-rmspe:0.099775\teval-rmspe:0.103039\n",
      "[16]\ttrain-rmse:0.096443\teval-rmse:0.098766\ttrain-rmspe:0.094742\teval-rmspe:0.097889\n",
      "[17]\ttrain-rmse:0.093911\teval-rmse:0.096447\ttrain-rmspe:0.092902\teval-rmspe:0.096341\n",
      "[18]\ttrain-rmse:0.090583\teval-rmse:0.09293\ttrain-rmspe:0.090062\teval-rmspe:0.093334\n",
      "[19]\ttrain-rmse:0.087218\teval-rmse:0.089319\ttrain-rmspe:0.086924\teval-rmspe:0.089852\n",
      "[20]\ttrain-rmse:0.085355\teval-rmse:0.087481\ttrain-rmspe:0.085245\teval-rmspe:0.088248\n",
      "[21]\ttrain-rmse:0.083072\teval-rmse:0.08523\ttrain-rmspe:0.083044\teval-rmspe:0.086108\n",
      "[22]\ttrain-rmse:0.081187\teval-rmse:0.083282\ttrain-rmspe:0.081207\teval-rmspe:0.084228\n",
      "[23]\ttrain-rmse:0.079941\teval-rmse:0.082104\ttrain-rmspe:0.079965\teval-rmspe:0.083112\n",
      "[24]\ttrain-rmse:0.078333\teval-rmse:0.080432\ttrain-rmspe:0.078348\teval-rmspe:0.081413\n",
      "[25]\ttrain-rmse:0.07706\teval-rmse:0.079059\ttrain-rmspe:0.077035\teval-rmspe:0.079943\n",
      "[26]\ttrain-rmse:0.075835\teval-rmse:0.077856\ttrain-rmspe:0.075792\teval-rmspe:0.078715\n",
      "[27]\ttrain-rmse:0.074772\teval-rmse:0.076908\ttrain-rmspe:0.074712\teval-rmspe:0.077702\n",
      "[28]\ttrain-rmse:0.074137\teval-rmse:0.076369\ttrain-rmspe:0.074082\teval-rmspe:0.077151\n",
      "[29]\ttrain-rmse:0.072873\teval-rmse:0.075051\ttrain-rmspe:0.072774\teval-rmspe:0.075803\n",
      "[30]\ttrain-rmse:0.072324\teval-rmse:0.074549\ttrain-rmspe:0.072213\teval-rmspe:0.075261\n",
      "[31]\ttrain-rmse:0.071741\teval-rmse:0.074164\ttrain-rmspe:0.071614\teval-rmspe:0.074848\n",
      "[32]\ttrain-rmse:0.071496\teval-rmse:0.073984\ttrain-rmspe:0.071374\teval-rmspe:0.074664\n",
      "[33]\ttrain-rmse:0.070962\teval-rmse:0.073553\ttrain-rmspe:0.070825\teval-rmspe:0.074217\n",
      "[34]\ttrain-rmse:0.070032\teval-rmse:0.07266\ttrain-rmspe:0.069888\teval-rmspe:0.07329\n",
      "[35]\ttrain-rmse:0.069839\teval-rmse:0.072494\ttrain-rmspe:0.069696\teval-rmspe:0.073121\n",
      "[36]\ttrain-rmse:0.069247\teval-rmse:0.07194\ttrain-rmspe:0.06909\teval-rmspe:0.07256\n",
      "[37]\ttrain-rmse:0.068954\teval-rmse:0.071687\ttrain-rmspe:0.068784\teval-rmspe:0.0723\n",
      "[38]\ttrain-rmse:0.067931\teval-rmse:0.070771\ttrain-rmspe:0.067764\teval-rmspe:0.071345\n",
      "[39]\ttrain-rmse:0.067228\teval-rmse:0.070064\ttrain-rmspe:0.067032\teval-rmspe:0.070605\n",
      "[40]\ttrain-rmse:0.066712\teval-rmse:0.069609\ttrain-rmspe:0.066504\teval-rmspe:0.070122\n",
      "[41]\ttrain-rmse:0.066386\teval-rmse:0.069381\ttrain-rmspe:0.066175\teval-rmspe:0.069907\n",
      "[42]\ttrain-rmse:0.066007\teval-rmse:0.069035\ttrain-rmspe:0.06579\teval-rmspe:0.069529\n",
      "[43]\ttrain-rmse:0.065596\teval-rmse:0.068687\ttrain-rmspe:0.065367\teval-rmspe:0.069163\n",
      "[44]\ttrain-rmse:0.06528\teval-rmse:0.068463\ttrain-rmspe:0.065043\teval-rmspe:0.068928\n",
      "[45]\ttrain-rmse:0.064811\teval-rmse:0.068044\ttrain-rmspe:0.064565\teval-rmspe:0.068504\n",
      "[46]\ttrain-rmse:0.064458\teval-rmse:0.067679\ttrain-rmspe:0.064213\teval-rmspe:0.068135\n",
      "[47]\ttrain-rmse:0.063858\teval-rmse:0.067081\ttrain-rmspe:0.063608\teval-rmspe:0.067537\n",
      "[48]\ttrain-rmse:0.063449\teval-rmse:0.066641\ttrain-rmspe:0.063191\teval-rmspe:0.067114\n",
      "[49]\ttrain-rmse:0.063097\teval-rmse:0.066352\ttrain-rmspe:0.062823\teval-rmspe:0.066812\n",
      "[50]\ttrain-rmse:0.062655\teval-rmse:0.065894\ttrain-rmspe:0.062373\teval-rmspe:0.066342\n",
      "[51]\ttrain-rmse:0.062238\teval-rmse:0.065524\ttrain-rmspe:0.061952\teval-rmspe:0.06594\n",
      "[52]\ttrain-rmse:0.061953\teval-rmse:0.06529\ttrain-rmspe:0.061668\teval-rmspe:0.065717\n",
      "[53]\ttrain-rmse:0.061783\teval-rmse:0.065157\ttrain-rmspe:0.061496\teval-rmspe:0.065585\n",
      "[54]\ttrain-rmse:0.061386\teval-rmse:0.064819\ttrain-rmspe:0.061095\teval-rmspe:0.065239\n",
      "[55]\ttrain-rmse:0.061135\teval-rmse:0.064636\ttrain-rmspe:0.060839\teval-rmspe:0.065054\n",
      "[56]\ttrain-rmse:0.06069\teval-rmse:0.064253\ttrain-rmspe:0.060397\teval-rmspe:0.064658\n",
      "[57]\ttrain-rmse:0.060476\teval-rmse:0.064138\ttrain-rmspe:0.060178\teval-rmspe:0.064527\n",
      "[58]\ttrain-rmse:0.06036\teval-rmse:0.064097\ttrain-rmspe:0.060057\teval-rmspe:0.064482\n",
      "[59]\ttrain-rmse:0.060138\teval-rmse:0.063933\ttrain-rmspe:0.059835\teval-rmspe:0.064305\n",
      "[60]\ttrain-rmse:0.059907\teval-rmse:0.063752\ttrain-rmspe:0.059601\teval-rmspe:0.064113\n",
      "[61]\ttrain-rmse:0.059724\teval-rmse:0.063607\ttrain-rmspe:0.059418\teval-rmspe:0.063967\n",
      "[62]\ttrain-rmse:0.059452\teval-rmse:0.063422\ttrain-rmspe:0.059138\teval-rmspe:0.063779\n",
      "[63]\ttrain-rmse:0.059344\teval-rmse:0.063387\ttrain-rmspe:0.059032\teval-rmspe:0.063745\n",
      "[64]\ttrain-rmse:0.059068\teval-rmse:0.063148\ttrain-rmspe:0.058767\teval-rmspe:0.063505\n",
      "[65]\ttrain-rmse:0.058868\teval-rmse:0.062987\ttrain-rmspe:0.058564\teval-rmspe:0.063346\n",
      "[66]\ttrain-rmse:0.058449\teval-rmse:0.062643\ttrain-rmspe:0.058132\teval-rmspe:0.063003\n",
      "[67]\ttrain-rmse:0.05816\teval-rmse:0.062357\ttrain-rmspe:0.057832\teval-rmspe:0.062704\n",
      "[68]\ttrain-rmse:0.057922\teval-rmse:0.06217\ttrain-rmspe:0.057597\teval-rmspe:0.062513\n",
      "[69]\ttrain-rmse:0.057722\teval-rmse:0.062078\ttrain-rmspe:0.057399\teval-rmspe:0.062413\n",
      "[70]\ttrain-rmse:0.057607\teval-rmse:0.061974\ttrain-rmspe:0.057282\teval-rmspe:0.062311\n",
      "[71]\ttrain-rmse:0.057477\teval-rmse:0.061926\ttrain-rmspe:0.057159\teval-rmspe:0.062275\n",
      "[72]\ttrain-rmse:0.057287\teval-rmse:0.061777\ttrain-rmspe:0.056969\teval-rmspe:0.062118\n",
      "[73]\ttrain-rmse:0.057077\teval-rmse:0.061672\ttrain-rmspe:0.056766\teval-rmspe:0.06201\n",
      "[74]\ttrain-rmse:0.057016\teval-rmse:0.061629\ttrain-rmspe:0.056706\teval-rmspe:0.061966\n",
      "[75]\ttrain-rmse:0.056769\teval-rmse:0.061499\ttrain-rmspe:0.056461\teval-rmspe:0.06183\n",
      "[76]\ttrain-rmse:0.056599\teval-rmse:0.061351\ttrain-rmspe:0.056285\teval-rmspe:0.061671\n",
      "[77]\ttrain-rmse:0.056403\teval-rmse:0.061217\ttrain-rmspe:0.056085\teval-rmspe:0.061514\n",
      "[78]\ttrain-rmse:0.056322\teval-rmse:0.061176\ttrain-rmspe:0.056003\teval-rmspe:0.061472\n",
      "[79]\ttrain-rmse:0.056176\teval-rmse:0.06104\ttrain-rmspe:0.055859\teval-rmspe:0.061347\n",
      "[80]\ttrain-rmse:0.056075\teval-rmse:0.060941\ttrain-rmspe:0.055758\teval-rmspe:0.061247\n",
      "[81]\ttrain-rmse:0.056026\teval-rmse:0.060886\ttrain-rmspe:0.055707\teval-rmspe:0.061186\n",
      "[82]\ttrain-rmse:0.055685\teval-rmse:0.060597\ttrain-rmspe:0.055368\teval-rmspe:0.060903\n",
      "[83]\ttrain-rmse:0.055631\teval-rmse:0.060572\ttrain-rmspe:0.055314\teval-rmspe:0.060885\n",
      "[84]\ttrain-rmse:0.055558\teval-rmse:0.060517\ttrain-rmspe:0.055239\teval-rmspe:0.060827\n",
      "[85]\ttrain-rmse:0.055359\teval-rmse:0.060372\ttrain-rmspe:0.055036\teval-rmspe:0.060678\n",
      "[86]\ttrain-rmse:0.055263\teval-rmse:0.06035\ttrain-rmspe:0.054944\teval-rmspe:0.060655\n",
      "[87]\ttrain-rmse:0.05511\teval-rmse:0.060249\ttrain-rmspe:0.054789\teval-rmspe:0.060553\n",
      "[88]\ttrain-rmse:0.054954\teval-rmse:0.060146\ttrain-rmspe:0.054632\teval-rmspe:0.060449\n",
      "[89]\ttrain-rmse:0.054776\teval-rmse:0.059994\ttrain-rmspe:0.054449\teval-rmspe:0.060299\n",
      "[90]\ttrain-rmse:0.054596\teval-rmse:0.059869\ttrain-rmspe:0.054268\teval-rmspe:0.060177\n",
      "[91]\ttrain-rmse:0.054468\teval-rmse:0.059791\ttrain-rmspe:0.054139\teval-rmspe:0.0601\n",
      "[92]\ttrain-rmse:0.054358\teval-rmse:0.059695\ttrain-rmspe:0.054031\teval-rmspe:0.060007\n",
      "[93]\ttrain-rmse:0.054166\teval-rmse:0.059573\ttrain-rmspe:0.053877\teval-rmspe:0.059879\n",
      "[94]\ttrain-rmse:0.054022\teval-rmse:0.059456\ttrain-rmspe:0.05373\teval-rmspe:0.059751\n",
      "[95]\ttrain-rmse:0.053931\teval-rmse:0.059398\ttrain-rmspe:0.053636\teval-rmspe:0.059688\n"
     ]
    },
    {
     "name": "stdout",
     "output_type": "stream",
     "text": [
      "[96]\ttrain-rmse:0.053878\teval-rmse:0.059384\ttrain-rmspe:0.053584\teval-rmspe:0.059672\n",
      "[97]\ttrain-rmse:0.053749\teval-rmse:0.059344\ttrain-rmspe:0.053454\teval-rmspe:0.059636\n",
      "[98]\ttrain-rmse:0.053635\teval-rmse:0.059277\ttrain-rmspe:0.053343\teval-rmspe:0.059568\n",
      "[99]\ttrain-rmse:0.05354\teval-rmse:0.059217\ttrain-rmspe:0.053245\teval-rmspe:0.059496\n",
      "[100]\ttrain-rmse:0.053351\teval-rmse:0.05906\ttrain-rmspe:0.053059\teval-rmspe:0.05934\n",
      "[101]\ttrain-rmse:0.053234\teval-rmse:0.058984\ttrain-rmspe:0.052944\teval-rmspe:0.059273\n",
      "[102]\ttrain-rmse:0.053169\teval-rmse:0.058947\ttrain-rmspe:0.052878\teval-rmspe:0.059235\n",
      "[103]\ttrain-rmse:0.053065\teval-rmse:0.058871\ttrain-rmspe:0.05278\teval-rmspe:0.059156\n",
      "[104]\ttrain-rmse:0.052907\teval-rmse:0.058779\ttrain-rmspe:0.05262\teval-rmspe:0.05906\n",
      "[105]\ttrain-rmse:0.052776\teval-rmse:0.058733\ttrain-rmspe:0.052487\teval-rmspe:0.059012\n",
      "[106]\ttrain-rmse:0.052718\teval-rmse:0.058707\ttrain-rmspe:0.052431\teval-rmspe:0.058985\n",
      "[107]\ttrain-rmse:0.052592\teval-rmse:0.058639\ttrain-rmspe:0.052307\teval-rmspe:0.058919\n",
      "[108]\ttrain-rmse:0.052512\teval-rmse:0.058599\ttrain-rmspe:0.052227\teval-rmspe:0.058875\n",
      "[109]\ttrain-rmse:0.052403\teval-rmse:0.058559\ttrain-rmspe:0.052124\teval-rmspe:0.058837\n",
      "[110]\ttrain-rmse:0.052263\teval-rmse:0.058406\ttrain-rmspe:0.051983\teval-rmspe:0.058669\n",
      "[111]\ttrain-rmse:0.052208\teval-rmse:0.058366\ttrain-rmspe:0.051928\teval-rmspe:0.05863\n",
      "[112]\ttrain-rmse:0.052098\teval-rmse:0.058343\ttrain-rmspe:0.051823\teval-rmspe:0.058605\n",
      "[113]\ttrain-rmse:0.052031\teval-rmse:0.058306\ttrain-rmspe:0.051756\teval-rmspe:0.05857\n",
      "[114]\ttrain-rmse:0.051959\teval-rmse:0.058294\ttrain-rmspe:0.051689\teval-rmspe:0.058555\n",
      "[115]\ttrain-rmse:0.051854\teval-rmse:0.058232\ttrain-rmspe:0.051579\teval-rmspe:0.05849\n",
      "[116]\ttrain-rmse:0.051807\teval-rmse:0.058185\ttrain-rmspe:0.051531\teval-rmspe:0.058438\n",
      "[117]\ttrain-rmse:0.051728\teval-rmse:0.058127\ttrain-rmspe:0.051451\teval-rmspe:0.058377\n",
      "[118]\ttrain-rmse:0.051658\teval-rmse:0.058062\ttrain-rmspe:0.051384\teval-rmspe:0.058314\n",
      "[119]\ttrain-rmse:0.051581\teval-rmse:0.058017\ttrain-rmspe:0.051312\teval-rmspe:0.058265\n",
      "[120]\ttrain-rmse:0.051507\teval-rmse:0.057958\ttrain-rmspe:0.05124\teval-rmspe:0.058205\n",
      "[121]\ttrain-rmse:0.051436\teval-rmse:0.057935\ttrain-rmspe:0.051168\teval-rmspe:0.058188\n",
      "[122]\ttrain-rmse:0.05129\teval-rmse:0.05784\ttrain-rmspe:0.05102\teval-rmspe:0.058093\n",
      "[123]\ttrain-rmse:0.051231\teval-rmse:0.05781\ttrain-rmspe:0.050961\teval-rmspe:0.058061\n",
      "[124]\ttrain-rmse:0.051147\teval-rmse:0.057758\ttrain-rmspe:0.050876\teval-rmspe:0.058009\n",
      "[125]\ttrain-rmse:0.051092\teval-rmse:0.057719\ttrain-rmspe:0.050822\teval-rmspe:0.057969\n",
      "[126]\ttrain-rmse:0.051047\teval-rmse:0.057686\ttrain-rmspe:0.050777\teval-rmspe:0.057936\n",
      "[127]\ttrain-rmse:0.050974\teval-rmse:0.057663\ttrain-rmspe:0.050702\teval-rmspe:0.057913\n",
      "[128]\ttrain-rmse:0.050882\teval-rmse:0.057637\ttrain-rmspe:0.050609\teval-rmspe:0.057879\n",
      "[129]\ttrain-rmse:0.050817\teval-rmse:0.057616\ttrain-rmspe:0.050545\teval-rmspe:0.057858\n",
      "[130]\ttrain-rmse:0.050744\teval-rmse:0.057576\ttrain-rmspe:0.050472\teval-rmspe:0.057817\n",
      "[131]\ttrain-rmse:0.050667\teval-rmse:0.05754\ttrain-rmspe:0.050401\teval-rmspe:0.057782\n",
      "[132]\ttrain-rmse:0.050616\teval-rmse:0.057553\ttrain-rmspe:0.050351\teval-rmspe:0.057792\n",
      "[133]\ttrain-rmse:0.050559\teval-rmse:0.057551\ttrain-rmspe:0.050292\teval-rmspe:0.05779\n",
      "[134]\ttrain-rmse:0.050416\teval-rmse:0.057428\ttrain-rmspe:0.050149\teval-rmspe:0.057666\n",
      "[135]\ttrain-rmse:0.050324\teval-rmse:0.057389\ttrain-rmspe:0.05006\teval-rmspe:0.057629\n",
      "[136]\ttrain-rmse:0.050223\teval-rmse:0.057353\ttrain-rmspe:0.049964\teval-rmspe:0.057598\n",
      "[137]\ttrain-rmse:0.05013\teval-rmse:0.057324\ttrain-rmspe:0.04987\teval-rmspe:0.057564\n",
      "[138]\ttrain-rmse:0.050084\teval-rmse:0.057289\ttrain-rmspe:0.049824\teval-rmspe:0.057529\n",
      "[139]\ttrain-rmse:0.050025\teval-rmse:0.057262\ttrain-rmspe:0.049765\teval-rmspe:0.057503\n",
      "[140]\ttrain-rmse:0.049903\teval-rmse:0.057202\ttrain-rmspe:0.049648\teval-rmspe:0.057447\n",
      "[141]\ttrain-rmse:0.049836\teval-rmse:0.057186\ttrain-rmspe:0.049583\teval-rmspe:0.057429\n",
      "[142]\ttrain-rmse:0.049767\teval-rmse:0.057135\ttrain-rmspe:0.049513\teval-rmspe:0.057374\n",
      "[143]\ttrain-rmse:0.049686\teval-rmse:0.05712\ttrain-rmspe:0.049434\teval-rmspe:0.057362\n",
      "[144]\ttrain-rmse:0.049637\teval-rmse:0.057093\ttrain-rmspe:0.049384\teval-rmspe:0.05734\n",
      "[145]\ttrain-rmse:0.049569\teval-rmse:0.057058\ttrain-rmspe:0.049318\teval-rmspe:0.057301\n",
      "[146]\ttrain-rmse:0.049478\teval-rmse:0.056999\ttrain-rmspe:0.049227\teval-rmspe:0.057247\n",
      "[147]\ttrain-rmse:0.049376\teval-rmse:0.056949\ttrain-rmspe:0.049123\teval-rmspe:0.057195\n",
      "[148]\ttrain-rmse:0.04928\teval-rmse:0.056889\ttrain-rmspe:0.04903\teval-rmspe:0.057129\n",
      "[149]\ttrain-rmse:0.049219\teval-rmse:0.056869\ttrain-rmspe:0.04897\teval-rmspe:0.057103\n",
      "[150]\ttrain-rmse:0.049136\teval-rmse:0.056844\ttrain-rmspe:0.048888\teval-rmspe:0.057077\n",
      "[151]\ttrain-rmse:0.049071\teval-rmse:0.05681\ttrain-rmspe:0.048823\teval-rmspe:0.057036\n",
      "[152]\ttrain-rmse:0.049009\teval-rmse:0.056758\ttrain-rmspe:0.048762\teval-rmspe:0.056981\n",
      "[153]\ttrain-rmse:0.048968\teval-rmse:0.056735\ttrain-rmspe:0.048721\teval-rmspe:0.056954\n",
      "[154]\ttrain-rmse:0.048928\teval-rmse:0.056707\ttrain-rmspe:0.048683\teval-rmspe:0.056925\n",
      "[155]\ttrain-rmse:0.048876\teval-rmse:0.05671\ttrain-rmspe:0.048631\teval-rmspe:0.056931\n",
      "[156]\ttrain-rmse:0.048802\teval-rmse:0.056695\ttrain-rmspe:0.048561\teval-rmspe:0.056914\n",
      "[157]\ttrain-rmse:0.048744\teval-rmse:0.056667\ttrain-rmspe:0.048505\teval-rmspe:0.056884\n",
      "[158]\ttrain-rmse:0.048707\teval-rmse:0.056646\ttrain-rmspe:0.048468\teval-rmspe:0.05687\n",
      "[159]\ttrain-rmse:0.048656\teval-rmse:0.056624\ttrain-rmspe:0.048418\teval-rmspe:0.056851\n",
      "[160]\ttrain-rmse:0.048612\teval-rmse:0.056613\ttrain-rmspe:0.048373\teval-rmspe:0.056845\n",
      "[161]\ttrain-rmse:0.048527\teval-rmse:0.05653\ttrain-rmspe:0.048289\teval-rmspe:0.056763\n",
      "[162]\ttrain-rmse:0.048451\teval-rmse:0.056509\ttrain-rmspe:0.048211\teval-rmspe:0.056739\n",
      "[163]\ttrain-rmse:0.048427\teval-rmse:0.0565\ttrain-rmspe:0.048186\teval-rmspe:0.056728\n",
      "[164]\ttrain-rmse:0.048367\teval-rmse:0.056458\ttrain-rmspe:0.048128\teval-rmspe:0.056689\n",
      "[165]\ttrain-rmse:0.048288\teval-rmse:0.056402\ttrain-rmspe:0.048051\teval-rmspe:0.056634\n",
      "[166]\ttrain-rmse:0.04824\teval-rmse:0.0564\ttrain-rmspe:0.048002\teval-rmspe:0.056637\n",
      "[167]\ttrain-rmse:0.048161\teval-rmse:0.056377\ttrain-rmspe:0.047926\teval-rmspe:0.056613\n",
      "[168]\ttrain-rmse:0.048087\teval-rmse:0.056319\ttrain-rmspe:0.047853\teval-rmspe:0.056556\n",
      "[169]\ttrain-rmse:0.048026\teval-rmse:0.056293\ttrain-rmspe:0.047793\teval-rmspe:0.056526\n",
      "[170]\ttrain-rmse:0.048002\teval-rmse:0.056318\ttrain-rmspe:0.04777\teval-rmspe:0.056551\n",
      "[171]\ttrain-rmse:0.047985\teval-rmse:0.056322\ttrain-rmspe:0.047752\teval-rmspe:0.056556\n",
      "[172]\ttrain-rmse:0.047909\teval-rmse:0.05629\ttrain-rmspe:0.047677\teval-rmspe:0.05653\n",
      "[173]\ttrain-rmse:0.047864\teval-rmse:0.05628\ttrain-rmspe:0.047633\teval-rmspe:0.056517\n",
      "[174]\ttrain-rmse:0.047788\teval-rmse:0.056266\ttrain-rmspe:0.047562\teval-rmspe:0.056501\n",
      "[175]\ttrain-rmse:0.047743\teval-rmse:0.05628\ttrain-rmspe:0.047517\teval-rmspe:0.056536\n",
      "[176]\ttrain-rmse:0.047695\teval-rmse:0.056273\ttrain-rmspe:0.047469\teval-rmspe:0.056529\n",
      "[177]\ttrain-rmse:0.047561\teval-rmse:0.056222\ttrain-rmspe:0.047342\teval-rmspe:0.05647\n",
      "[178]\ttrain-rmse:0.0475\teval-rmse:0.056198\ttrain-rmspe:0.04728\teval-rmspe:0.056446\n",
      "[179]\ttrain-rmse:0.047432\teval-rmse:0.05614\ttrain-rmspe:0.047212\teval-rmspe:0.056389\n",
      "[180]\ttrain-rmse:0.047334\teval-rmse:0.056091\ttrain-rmspe:0.047118\teval-rmspe:0.056344\n",
      "[181]\ttrain-rmse:0.047257\teval-rmse:0.056057\ttrain-rmspe:0.047038\teval-rmspe:0.056307\n",
      "[182]\ttrain-rmse:0.047191\teval-rmse:0.056012\ttrain-rmspe:0.046976\teval-rmspe:0.056261\n",
      "[183]\ttrain-rmse:0.047137\teval-rmse:0.056\ttrain-rmspe:0.046922\teval-rmspe:0.056242\n",
      "[184]\ttrain-rmse:0.047094\teval-rmse:0.05598\ttrain-rmspe:0.046878\teval-rmspe:0.056218\n",
      "[185]\ttrain-rmse:0.04705\teval-rmse:0.055979\ttrain-rmspe:0.046835\teval-rmspe:0.056216\n",
      "[186]\ttrain-rmse:0.046984\teval-rmse:0.055948\ttrain-rmspe:0.046769\teval-rmspe:0.056184\n",
      "[187]\ttrain-rmse:0.046943\teval-rmse:0.05591\ttrain-rmspe:0.046728\teval-rmspe:0.056143\n",
      "[188]\ttrain-rmse:0.046884\teval-rmse:0.055895\ttrain-rmspe:0.046673\teval-rmspe:0.056128\n",
      "[189]\ttrain-rmse:0.04684\teval-rmse:0.055873\ttrain-rmspe:0.046629\teval-rmspe:0.056106\n",
      "[190]\ttrain-rmse:0.046787\teval-rmse:0.055833\ttrain-rmspe:0.046576\teval-rmspe:0.056066\n",
      "[191]\ttrain-rmse:0.046714\teval-rmse:0.055817\ttrain-rmspe:0.046509\teval-rmspe:0.056048\n"
     ]
    },
    {
     "name": "stdout",
     "output_type": "stream",
     "text": [
      "[192]\ttrain-rmse:0.046681\teval-rmse:0.055814\ttrain-rmspe:0.046476\teval-rmspe:0.056044\n",
      "[193]\ttrain-rmse:0.04662\teval-rmse:0.055824\ttrain-rmspe:0.046417\teval-rmspe:0.056055\n",
      "[194]\ttrain-rmse:0.046559\teval-rmse:0.055814\ttrain-rmspe:0.046359\teval-rmspe:0.056044\n",
      "[195]\ttrain-rmse:0.046464\teval-rmse:0.055745\ttrain-rmspe:0.046267\teval-rmspe:0.055976\n",
      "[196]\ttrain-rmse:0.046443\teval-rmse:0.05574\ttrain-rmspe:0.046246\teval-rmspe:0.055971\n",
      "[197]\ttrain-rmse:0.046373\teval-rmse:0.055685\ttrain-rmspe:0.04618\teval-rmspe:0.055919\n",
      "[198]\ttrain-rmse:0.046303\teval-rmse:0.055657\ttrain-rmspe:0.046111\teval-rmspe:0.055889\n",
      "[199]\ttrain-rmse:0.046239\teval-rmse:0.055621\ttrain-rmspe:0.04605\teval-rmspe:0.055848\n",
      "[200]\ttrain-rmse:0.046185\teval-rmse:0.055616\ttrain-rmspe:0.046004\teval-rmspe:0.055843\n",
      "[201]\ttrain-rmse:0.046142\teval-rmse:0.0556\ttrain-rmspe:0.045961\teval-rmspe:0.055824\n",
      "[202]\ttrain-rmse:0.046112\teval-rmse:0.055589\ttrain-rmspe:0.045931\teval-rmspe:0.055811\n",
      "[203]\ttrain-rmse:0.046055\teval-rmse:0.055587\ttrain-rmspe:0.04588\teval-rmspe:0.055809\n",
      "[204]\ttrain-rmse:0.046015\teval-rmse:0.05558\ttrain-rmspe:0.045841\teval-rmspe:0.055799\n",
      "[205]\ttrain-rmse:0.045984\teval-rmse:0.055569\ttrain-rmspe:0.04581\teval-rmspe:0.055784\n",
      "[206]\ttrain-rmse:0.045919\teval-rmse:0.055543\ttrain-rmspe:0.045745\teval-rmspe:0.055758\n",
      "[207]\ttrain-rmse:0.045863\teval-rmse:0.055538\ttrain-rmspe:0.045689\teval-rmspe:0.055749\n",
      "[208]\ttrain-rmse:0.045813\teval-rmse:0.055499\ttrain-rmspe:0.045639\teval-rmspe:0.055691\n",
      "[209]\ttrain-rmse:0.04578\teval-rmse:0.055492\ttrain-rmspe:0.045605\teval-rmspe:0.055685\n",
      "[210]\ttrain-rmse:0.045743\teval-rmse:0.055497\ttrain-rmspe:0.045569\teval-rmspe:0.055687\n",
      "[211]\ttrain-rmse:0.045672\teval-rmse:0.055476\ttrain-rmspe:0.045501\teval-rmspe:0.055664\n",
      "[212]\ttrain-rmse:0.045618\teval-rmse:0.055512\ttrain-rmspe:0.045448\teval-rmspe:0.0557\n",
      "[213]\ttrain-rmse:0.045593\teval-rmse:0.0555\ttrain-rmspe:0.045422\teval-rmspe:0.055688\n",
      "[214]\ttrain-rmse:0.045552\teval-rmse:0.055456\ttrain-rmspe:0.04538\teval-rmspe:0.055636\n",
      "[215]\ttrain-rmse:0.045492\teval-rmse:0.055445\ttrain-rmspe:0.045322\teval-rmspe:0.055625\n",
      "[216]\ttrain-rmse:0.045434\teval-rmse:0.055441\ttrain-rmspe:0.045259\teval-rmspe:0.055622\n",
      "[217]\ttrain-rmse:0.045375\teval-rmse:0.055416\ttrain-rmspe:0.04521\teval-rmspe:0.055599\n",
      "[218]\ttrain-rmse:0.045311\teval-rmse:0.055411\ttrain-rmspe:0.045157\teval-rmspe:0.055588\n",
      "[219]\ttrain-rmse:0.045272\teval-rmse:0.055386\ttrain-rmspe:0.045117\teval-rmspe:0.055563\n",
      "[220]\ttrain-rmse:0.045216\teval-rmse:0.055369\ttrain-rmspe:0.045061\teval-rmspe:0.055546\n",
      "[221]\ttrain-rmse:0.045162\teval-rmse:0.055356\ttrain-rmspe:0.045005\teval-rmspe:0.055542\n",
      "[222]\ttrain-rmse:0.04513\teval-rmse:0.055342\ttrain-rmspe:0.044973\teval-rmspe:0.055529\n",
      "[223]\ttrain-rmse:0.045086\teval-rmse:0.05533\ttrain-rmspe:0.04493\teval-rmspe:0.055519\n",
      "[224]\ttrain-rmse:0.045028\teval-rmse:0.055312\ttrain-rmspe:0.044873\teval-rmspe:0.0555\n",
      "[225]\ttrain-rmse:0.044975\teval-rmse:0.055257\ttrain-rmspe:0.04482\teval-rmspe:0.055452\n",
      "[226]\ttrain-rmse:0.044907\teval-rmse:0.055229\ttrain-rmspe:0.044753\teval-rmspe:0.05542\n",
      "[227]\ttrain-rmse:0.044856\teval-rmse:0.055218\ttrain-rmspe:0.044704\teval-rmspe:0.055409\n",
      "[228]\ttrain-rmse:0.044801\teval-rmse:0.055209\ttrain-rmspe:0.044651\teval-rmspe:0.055398\n",
      "[229]\ttrain-rmse:0.044798\teval-rmse:0.055208\ttrain-rmspe:0.044648\teval-rmspe:0.055398\n",
      "[230]\ttrain-rmse:0.044744\teval-rmse:0.05518\ttrain-rmspe:0.044594\teval-rmspe:0.055368\n",
      "[231]\ttrain-rmse:0.044708\teval-rmse:0.055169\ttrain-rmspe:0.044559\teval-rmspe:0.055358\n",
      "[232]\ttrain-rmse:0.044667\teval-rmse:0.055169\ttrain-rmspe:0.044519\teval-rmspe:0.055361\n",
      "[233]\ttrain-rmse:0.044625\teval-rmse:0.05517\ttrain-rmspe:0.044477\teval-rmspe:0.055359\n",
      "[234]\ttrain-rmse:0.044572\teval-rmse:0.055149\ttrain-rmspe:0.044423\teval-rmspe:0.05534\n",
      "[235]\ttrain-rmse:0.044523\teval-rmse:0.055134\ttrain-rmspe:0.044374\teval-rmspe:0.055326\n",
      "[236]\ttrain-rmse:0.044491\teval-rmse:0.05513\ttrain-rmspe:0.044343\teval-rmspe:0.055319\n",
      "[237]\ttrain-rmse:0.044432\teval-rmse:0.055107\ttrain-rmspe:0.044281\teval-rmspe:0.055295\n",
      "[238]\ttrain-rmse:0.044409\teval-rmse:0.055103\ttrain-rmspe:0.044259\teval-rmspe:0.055295\n",
      "[239]\ttrain-rmse:0.044361\teval-rmse:0.055093\ttrain-rmspe:0.04421\teval-rmspe:0.055282\n",
      "[240]\ttrain-rmse:0.044308\teval-rmse:0.055084\ttrain-rmspe:0.044157\teval-rmspe:0.055275\n",
      "[241]\ttrain-rmse:0.044259\teval-rmse:0.055064\ttrain-rmspe:0.044108\teval-rmspe:0.055253\n",
      "[242]\ttrain-rmse:0.044205\teval-rmse:0.055043\ttrain-rmspe:0.044053\teval-rmspe:0.055233\n",
      "[243]\ttrain-rmse:0.04416\teval-rmse:0.055032\ttrain-rmspe:0.044008\teval-rmspe:0.055221\n",
      "[244]\ttrain-rmse:0.044121\teval-rmse:0.055033\ttrain-rmspe:0.043969\teval-rmspe:0.055221\n",
      "[245]\ttrain-rmse:0.044074\teval-rmse:0.055029\ttrain-rmspe:0.043923\teval-rmspe:0.055218\n",
      "[246]\ttrain-rmse:0.044054\teval-rmse:0.055025\ttrain-rmspe:0.043903\teval-rmspe:0.055214\n",
      "[247]\ttrain-rmse:0.044013\teval-rmse:0.055008\ttrain-rmspe:0.043863\teval-rmspe:0.055199\n",
      "[248]\ttrain-rmse:0.043973\teval-rmse:0.054996\ttrain-rmspe:0.043824\teval-rmspe:0.055189\n",
      "[249]\ttrain-rmse:0.04393\teval-rmse:0.054999\ttrain-rmspe:0.043781\teval-rmspe:0.055189\n",
      "[250]\ttrain-rmse:0.043885\teval-rmse:0.054989\ttrain-rmspe:0.043737\teval-rmspe:0.055178\n",
      "[251]\ttrain-rmse:0.043868\teval-rmse:0.054989\ttrain-rmspe:0.043719\teval-rmspe:0.055178\n",
      "[252]\ttrain-rmse:0.04383\teval-rmse:0.054955\ttrain-rmspe:0.043681\teval-rmspe:0.055146\n",
      "[253]\ttrain-rmse:0.043796\teval-rmse:0.05495\ttrain-rmspe:0.043647\teval-rmspe:0.055141\n",
      "[254]\ttrain-rmse:0.043775\teval-rmse:0.054957\ttrain-rmspe:0.043625\teval-rmspe:0.05515\n",
      "[255]\ttrain-rmse:0.043741\teval-rmse:0.054943\ttrain-rmspe:0.043591\teval-rmspe:0.055138\n",
      "[256]\ttrain-rmse:0.043698\teval-rmse:0.054933\ttrain-rmspe:0.043548\teval-rmspe:0.055128\n",
      "[257]\ttrain-rmse:0.043664\teval-rmse:0.054925\ttrain-rmspe:0.043514\teval-rmspe:0.05512\n",
      "[258]\ttrain-rmse:0.043623\teval-rmse:0.054919\ttrain-rmspe:0.043474\teval-rmspe:0.055114\n",
      "[259]\ttrain-rmse:0.043583\teval-rmse:0.054909\ttrain-rmspe:0.043434\teval-rmspe:0.055104\n",
      "[260]\ttrain-rmse:0.043522\teval-rmse:0.054881\ttrain-rmspe:0.043375\teval-rmspe:0.055072\n",
      "[261]\ttrain-rmse:0.043464\teval-rmse:0.054874\ttrain-rmspe:0.043317\teval-rmspe:0.055064\n",
      "[262]\ttrain-rmse:0.043447\teval-rmse:0.054865\ttrain-rmspe:0.0433\teval-rmspe:0.055053\n",
      "[263]\ttrain-rmse:0.043403\teval-rmse:0.054851\ttrain-rmspe:0.043256\teval-rmspe:0.05504\n",
      "[264]\ttrain-rmse:0.043355\teval-rmse:0.054832\ttrain-rmspe:0.043209\teval-rmspe:0.055021\n",
      "[265]\ttrain-rmse:0.043322\teval-rmse:0.054812\ttrain-rmspe:0.043176\teval-rmspe:0.054996\n",
      "[266]\ttrain-rmse:0.043276\teval-rmse:0.054823\ttrain-rmspe:0.043132\teval-rmspe:0.055008\n",
      "[267]\ttrain-rmse:0.043242\teval-rmse:0.054803\ttrain-rmspe:0.043098\teval-rmspe:0.054987\n",
      "[268]\ttrain-rmse:0.043213\teval-rmse:0.054815\ttrain-rmspe:0.043069\teval-rmspe:0.055\n",
      "[269]\ttrain-rmse:0.04318\teval-rmse:0.054794\ttrain-rmspe:0.043037\teval-rmspe:0.05497\n",
      "[270]\ttrain-rmse:0.043147\teval-rmse:0.054796\ttrain-rmspe:0.043003\teval-rmspe:0.05497\n",
      "[271]\ttrain-rmse:0.043094\teval-rmse:0.054771\ttrain-rmspe:0.042955\teval-rmspe:0.054942\n",
      "[272]\ttrain-rmse:0.043066\teval-rmse:0.054769\ttrain-rmspe:0.042928\teval-rmspe:0.054939\n",
      "[273]\ttrain-rmse:0.043031\teval-rmse:0.05476\ttrain-rmspe:0.042893\teval-rmspe:0.054932\n",
      "[274]\ttrain-rmse:0.042976\teval-rmse:0.054759\ttrain-rmspe:0.042839\teval-rmspe:0.05493\n",
      "[275]\ttrain-rmse:0.042952\teval-rmse:0.054738\ttrain-rmspe:0.042816\teval-rmspe:0.054909\n",
      "[276]\ttrain-rmse:0.042885\teval-rmse:0.054705\ttrain-rmspe:0.04275\teval-rmspe:0.054876\n",
      "[277]\ttrain-rmse:0.042847\teval-rmse:0.054712\ttrain-rmspe:0.042716\teval-rmspe:0.054882\n",
      "[278]\ttrain-rmse:0.042795\teval-rmse:0.054692\ttrain-rmspe:0.042665\teval-rmspe:0.054862\n",
      "[279]\ttrain-rmse:0.042761\teval-rmse:0.054699\ttrain-rmspe:0.042631\teval-rmspe:0.054867\n",
      "[280]\ttrain-rmse:0.042727\teval-rmse:0.054684\ttrain-rmspe:0.042597\teval-rmspe:0.054851\n",
      "[281]\ttrain-rmse:0.042684\teval-rmse:0.054672\ttrain-rmspe:0.042553\teval-rmspe:0.05484\n",
      "[282]\ttrain-rmse:0.042649\teval-rmse:0.054669\ttrain-rmspe:0.042517\teval-rmspe:0.054836\n",
      "[283]\ttrain-rmse:0.042623\teval-rmse:0.054657\ttrain-rmspe:0.042491\teval-rmspe:0.05482\n",
      "[284]\ttrain-rmse:0.042566\teval-rmse:0.054617\ttrain-rmspe:0.042434\teval-rmspe:0.054777\n",
      "[285]\ttrain-rmse:0.042541\teval-rmse:0.054603\ttrain-rmspe:0.042409\teval-rmspe:0.054756\n",
      "[286]\ttrain-rmse:0.04251\teval-rmse:0.0546\ttrain-rmspe:0.04238\teval-rmspe:0.054752\n",
      "[287]\ttrain-rmse:0.042456\teval-rmse:0.054594\ttrain-rmspe:0.042327\teval-rmspe:0.054744\n"
     ]
    },
    {
     "name": "stdout",
     "output_type": "stream",
     "text": [
      "[288]\ttrain-rmse:0.042408\teval-rmse:0.054588\ttrain-rmspe:0.04228\teval-rmspe:0.054738\n",
      "[289]\ttrain-rmse:0.042382\teval-rmse:0.054568\ttrain-rmspe:0.042255\teval-rmspe:0.054719\n",
      "[290]\ttrain-rmse:0.042341\teval-rmse:0.054555\ttrain-rmspe:0.042217\teval-rmspe:0.054705\n",
      "[291]\ttrain-rmse:0.042295\teval-rmse:0.054549\ttrain-rmspe:0.042174\teval-rmspe:0.054697\n",
      "[292]\ttrain-rmse:0.042257\teval-rmse:0.054556\ttrain-rmspe:0.042135\teval-rmspe:0.054705\n",
      "[293]\ttrain-rmse:0.042209\teval-rmse:0.05453\ttrain-rmspe:0.042087\teval-rmspe:0.054679\n",
      "[294]\ttrain-rmse:0.042174\teval-rmse:0.054516\ttrain-rmspe:0.042051\teval-rmspe:0.054665\n",
      "[295]\ttrain-rmse:0.042141\teval-rmse:0.054517\ttrain-rmspe:0.042017\teval-rmspe:0.054666\n",
      "[296]\ttrain-rmse:0.042112\teval-rmse:0.054518\ttrain-rmspe:0.041989\teval-rmspe:0.054668\n",
      "[297]\ttrain-rmse:0.042065\teval-rmse:0.054494\ttrain-rmspe:0.041942\teval-rmspe:0.054643\n",
      "[298]\ttrain-rmse:0.041995\teval-rmse:0.054472\ttrain-rmspe:0.041874\teval-rmspe:0.054616\n",
      "[299]\ttrain-rmse:0.04198\teval-rmse:0.054477\ttrain-rmspe:0.041859\teval-rmspe:0.054621\n"
     ]
    }
   ],
   "source": [
    "watchlist = [(dtrain, 'train'), (dvalid, 'eval')]\n",
    "gbm = xgboost.train(params, dtrain, num_boost_round, evals=watchlist, \\\n",
    "  early_stopping_rounds=100, feval=rmspe_xg, verbose_eval=True)"
   ]
  },
  {
   "cell_type": "code",
   "execution_count": 28,
   "metadata": {},
   "outputs": [],
   "source": [
    "dtest = xgboost.DMatrix(test_data[features])\n",
    "test_probs = gbm.predict(dtest)"
   ]
  },
  {
   "cell_type": "code",
   "execution_count": 30,
   "metadata": {},
   "outputs": [],
   "source": [
    "result = pd.DataFrame({\"Id\": test_data[\"Id\"], 'Sales': np.expm1(test_probs)})"
   ]
  },
  {
   "cell_type": "code",
   "execution_count": 31,
   "metadata": {},
   "outputs": [],
   "source": [
    "result.to_csv(\"Submission12.csv\")"
   ]
  },
  {
   "cell_type": "code",
   "execution_count": null,
   "metadata": {},
   "outputs": [],
   "source": []
  }
 ],
 "metadata": {
  "kernelspec": {
   "display_name": "Python 3",
   "language": "python",
   "name": "python3"
  },
  "language_info": {
   "codemirror_mode": {
    "name": "ipython",
    "version": 3
   },
   "file_extension": ".py",
   "mimetype": "text/x-python",
   "name": "python",
   "nbconvert_exporter": "python",
   "pygments_lexer": "ipython3",
   "version": "3.7.0"
  }
 },
 "nbformat": 4,
 "nbformat_minor": 2
}
