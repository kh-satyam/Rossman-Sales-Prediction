{
 "cells": [
  {
   "cell_type": "code",
   "execution_count": 1,
   "metadata": {},
   "outputs": [
    {
     "name": "stderr",
     "output_type": "stream",
     "text": [
      "C:\\Users\\satyam\\AppData\\Local\\Continuum\\anaconda3\\lib\\site-packages\\sklearn\\ensemble\\weight_boosting.py:29: DeprecationWarning: numpy.core.umath_tests is an internal NumPy module and should not be imported. It will be removed in a future NumPy release.\n",
      "  from numpy.core.umath_tests import inner1d\n",
      "C:\\Users\\satyam\\AppData\\Local\\Continuum\\anaconda3\\lib\\site-packages\\sklearn\\cross_validation.py:41: DeprecationWarning: This module was deprecated in version 0.18 in favor of the model_selection module into which all the refactored classes and functions are moved. Also note that the interface of the new CV iterators are different from that of this module. This module will be removed in 0.20.\n",
      "  \"This module will be removed in 0.20.\", DeprecationWarning)\n"
     ]
    }
   ],
   "source": [
    "import pandas as pd\n",
    "import numpy as np\n",
    "from sklearn.ensemble import RandomForestRegressor\n",
    "from sklearn.ensemble import GradientBoostingRegressor\n",
    "import xgboost\n",
    "from sklearn.cross_validation import train_test_split"
   ]
  },
  {
   "cell_type": "code",
   "execution_count": 14,
   "metadata": {},
   "outputs": [],
   "source": [
    "train_data=pd.read_csv(\"train_data_processed.csv\")\n",
    "test_data=pd.read_csv(\"test_data_processed.csv\")"
   ]
  },
  {
   "cell_type": "code",
   "execution_count": 12,
   "metadata": {},
   "outputs": [],
   "source": [
    "def pre_process(data,train):\n",
    "    if train==True:\n",
    "        data = data[data[\"Open\"] != 0]\n",
    "        data = data[data[\"Sales\"] >0]\n",
    "        data.loc[data.Promo2SinceYear == 0, 'PromoOpen'] = 0\n",
    "    data=data.drop(columns=[\"Date\",\"Id\",\"CompetitionOpenSinceYear\",\"Promo2SinceWeek\",\"Promo2SinceYear\",\"Month\",\"Day\",\"Year\",\n",
    "            \"monthStr\",\"WeekOfYear\",\"Unnamed: 0\",\"PromoInterval\"])\n",
    "    return data"
   ]
  },
  {
   "cell_type": "code",
   "execution_count": 15,
   "metadata": {},
   "outputs": [
    {
     "name": "stderr",
     "output_type": "stream",
     "text": [
      "Exception ignored in: <function DMatrix.__del__ at 0x000001E1EB3629D8>\n",
      "Traceback (most recent call last):\n",
      "  File \"C:\\Users\\satyam\\AppData\\Local\\Continuum\\anaconda3\\lib\\site-packages\\xgboost\\core.py\", line 482, in __del__\n",
      "    if self.handle is not None:\n",
      "AttributeError: 'DMatrix' object has no attribute 'handle'\n"
     ]
    }
   ],
   "source": [
    "train_data=pre_process(train_data,True)"
   ]
  },
  {
   "cell_type": "code",
   "execution_count": 16,
   "metadata": {},
   "outputs": [],
   "source": [
    "test_data=pre_process(test_data,False)"
   ]
  },
  {
   "cell_type": "code",
   "execution_count": 17,
   "metadata": {},
   "outputs": [],
   "source": [
    "train_data.to_csv(\"train_data_processed1.csv\")\n",
    "test_data.to_csv(\"test_data_processed1.csv\")"
   ]
  },
  {
   "cell_type": "code",
   "execution_count": 34,
   "metadata": {},
   "outputs": [],
   "source": [
    "features=list(train_data.columns)"
   ]
  },
  {
   "cell_type": "code",
   "execution_count": 35,
   "metadata": {},
   "outputs": [],
   "source": [
    "features.remove(\"Sales\")"
   ]
  },
  {
   "cell_type": "code",
   "execution_count": 36,
   "metadata": {
    "scrolled": true
   },
   "outputs": [
    {
     "name": "stdout",
     "output_type": "stream",
     "text": [
      "[0]\ttrain-rmse:5.78963\teval-rmse:5.79328\ttrain-rmspe:0.996914\teval-rmspe:0.996923\n",
      "Multiple eval metrics have been passed: 'eval-rmspe' will be used for early stopping.\n",
      "\n",
      "Will train until eval-rmspe hasn't improved in 100 rounds.\n",
      "[1]\ttrain-rmse:4.05767\teval-rmse:4.06116\ttrain-rmspe:0.981878\teval-rmspe:0.981929\n",
      "[2]\ttrain-rmse:2.84266\teval-rmse:2.84548\ttrain-rmspe:0.939725\teval-rmspe:0.939868\n",
      "[3]\ttrain-rmse:1.99289\teval-rmse:1.9954\ttrain-rmspe:0.860235\teval-rmspe:0.860557\n",
      "[4]\ttrain-rmse:1.40008\teval-rmse:1.40207\ttrain-rmspe:0.747996\teval-rmspe:0.74843\n",
      "[5]\ttrain-rmse:0.98438\teval-rmse:0.986263\ttrain-rmspe:0.620163\teval-rmspe:0.620808\n",
      "[6]\ttrain-rmse:0.696872\teval-rmse:0.698733\ttrain-rmspe:0.494129\teval-rmspe:0.494995\n",
      "[7]\ttrain-rmse:0.494686\teval-rmse:0.495868\ttrain-rmspe:0.382886\teval-rmspe:0.383554\n",
      "[8]\ttrain-rmse:0.355234\teval-rmse:0.356224\ttrain-rmspe:0.292064\teval-rmspe:0.292752\n",
      "[9]\ttrain-rmse:0.259951\teval-rmse:0.260945\ttrain-rmspe:0.222654\teval-rmspe:0.223492\n",
      "[10]\ttrain-rmse:0.196715\teval-rmse:0.197737\ttrain-rmspe:0.173169\teval-rmspe:0.174208\n",
      "[11]\ttrain-rmse:0.154992\teval-rmse:0.156043\ttrain-rmspe:0.139371\teval-rmspe:0.140585\n",
      "[12]\ttrain-rmse:0.128454\teval-rmse:0.129397\ttrain-rmspe:0.117797\teval-rmspe:0.119033\n",
      "[13]\ttrain-rmse:0.111618\teval-rmse:0.112678\ttrain-rmspe:0.10425\teval-rmspe:0.10569\n",
      "[14]\ttrain-rmse:0.101018\teval-rmse:0.102238\ttrain-rmspe:0.095851\teval-rmspe:0.097588\n",
      "[15]\ttrain-rmse:0.095328\teval-rmse:0.096517\ttrain-rmspe:0.091702\teval-rmspe:0.093403\n",
      "[16]\ttrain-rmse:0.089954\teval-rmse:0.091317\ttrain-rmspe:0.087405\teval-rmspe:0.089293\n",
      "[17]\ttrain-rmse:0.087286\teval-rmse:0.088617\ttrain-rmspe:0.085443\teval-rmspe:0.087338\n",
      "[18]\ttrain-rmse:0.085774\teval-rmse:0.087126\ttrain-rmspe:0.084419\teval-rmspe:0.086306\n",
      "[19]\ttrain-rmse:0.084411\teval-rmse:0.085709\ttrain-rmspe:0.083395\teval-rmspe:0.085201\n",
      "[20]\ttrain-rmse:0.082497\teval-rmse:0.083659\ttrain-rmspe:0.0817\teval-rmspe:0.083374\n",
      "[21]\ttrain-rmse:0.081023\teval-rmse:0.082177\ttrain-rmspe:0.080373\teval-rmspe:0.082052\n",
      "[22]\ttrain-rmse:0.079773\teval-rmse:0.080976\ttrain-rmspe:0.079213\teval-rmspe:0.080928\n",
      "[23]\ttrain-rmse:0.078464\teval-rmse:0.079604\ttrain-rmspe:0.077959\teval-rmspe:0.079591\n",
      "[24]\ttrain-rmse:0.076853\teval-rmse:0.078012\ttrain-rmspe:0.076349\teval-rmspe:0.077958\n",
      "[25]\ttrain-rmse:0.076273\teval-rmse:0.077487\ttrain-rmspe:0.075804\teval-rmspe:0.077475\n",
      "[26]\ttrain-rmse:0.075368\teval-rmse:0.076601\ttrain-rmspe:0.074898\teval-rmspe:0.076606\n",
      "[27]\ttrain-rmse:0.074125\teval-rmse:0.07536\ttrain-rmspe:0.07367\teval-rmspe:0.075345\n",
      "[28]\ttrain-rmse:0.073676\teval-rmse:0.07494\ttrain-rmspe:0.073218\teval-rmspe:0.074916\n",
      "[29]\ttrain-rmse:0.073137\teval-rmse:0.074452\ttrain-rmspe:0.072675\teval-rmspe:0.074424\n",
      "[30]\ttrain-rmse:0.072322\teval-rmse:0.073669\ttrain-rmspe:0.071852\teval-rmspe:0.073619\n",
      "[31]\ttrain-rmse:0.071933\teval-rmse:0.073323\ttrain-rmspe:0.071455\teval-rmspe:0.073266\n",
      "[32]\ttrain-rmse:0.071216\teval-rmse:0.072681\ttrain-rmspe:0.070731\teval-rmspe:0.072607\n",
      "[33]\ttrain-rmse:0.070636\teval-rmse:0.072131\ttrain-rmspe:0.070148\teval-rmspe:0.072049\n",
      "[34]\ttrain-rmse:0.070252\teval-rmse:0.071788\ttrain-rmspe:0.069761\teval-rmspe:0.071708\n",
      "[35]\ttrain-rmse:0.069945\teval-rmse:0.071497\ttrain-rmspe:0.069464\teval-rmspe:0.07141\n",
      "[36]\ttrain-rmse:0.069341\teval-rmse:0.070963\ttrain-rmspe:0.068844\teval-rmspe:0.070851\n",
      "[37]\ttrain-rmse:0.068385\teval-rmse:0.070011\ttrain-rmspe:0.067862\teval-rmspe:0.069851\n",
      "[38]\ttrain-rmse:0.068057\teval-rmse:0.069706\ttrain-rmspe:0.067535\teval-rmspe:0.069555\n",
      "[39]\ttrain-rmse:0.067674\teval-rmse:0.069358\ttrain-rmspe:0.067145\teval-rmspe:0.069192\n",
      "[40]\ttrain-rmse:0.067121\teval-rmse:0.06896\ttrain-rmspe:0.066605\teval-rmspe:0.068774\n",
      "[41]\ttrain-rmse:0.066804\teval-rmse:0.068671\ttrain-rmspe:0.06628\teval-rmspe:0.068479\n",
      "[42]\ttrain-rmse:0.066095\teval-rmse:0.067986\ttrain-rmspe:0.065555\teval-rmspe:0.067757\n",
      "[43]\ttrain-rmse:0.06577\teval-rmse:0.067741\ttrain-rmspe:0.065251\teval-rmspe:0.067527\n",
      "[44]\ttrain-rmse:0.065597\teval-rmse:0.067691\ttrain-rmspe:0.065073\teval-rmspe:0.06749\n",
      "[45]\ttrain-rmse:0.065185\teval-rmse:0.067308\ttrain-rmspe:0.064657\teval-rmspe:0.0671\n",
      "[46]\ttrain-rmse:0.064961\teval-rmse:0.067151\ttrain-rmspe:0.064455\teval-rmspe:0.066953\n",
      "[47]\ttrain-rmse:0.064651\teval-rmse:0.066875\ttrain-rmspe:0.064139\teval-rmspe:0.066675\n",
      "[48]\ttrain-rmse:0.064298\teval-rmse:0.066605\ttrain-rmspe:0.063795\teval-rmspe:0.066402\n",
      "[49]\ttrain-rmse:0.064049\teval-rmse:0.066407\ttrain-rmspe:0.063558\teval-rmspe:0.066216\n",
      "[50]\ttrain-rmse:0.063801\teval-rmse:0.066257\ttrain-rmspe:0.063315\teval-rmspe:0.066078\n",
      "[51]\ttrain-rmse:0.063557\teval-rmse:0.066077\ttrain-rmspe:0.063072\teval-rmspe:0.065897\n",
      "[52]\ttrain-rmse:0.063374\teval-rmse:0.065936\ttrain-rmspe:0.0629\teval-rmspe:0.06576\n",
      "[53]\ttrain-rmse:0.06316\teval-rmse:0.065762\ttrain-rmspe:0.062683\teval-rmspe:0.065586\n",
      "[54]\ttrain-rmse:0.062932\teval-rmse:0.065618\ttrain-rmspe:0.062465\teval-rmspe:0.06545\n",
      "[55]\ttrain-rmse:0.062499\teval-rmse:0.065267\ttrain-rmspe:0.06203\teval-rmspe:0.065082\n",
      "[56]\ttrain-rmse:0.062343\teval-rmse:0.065172\ttrain-rmspe:0.061875\teval-rmspe:0.064987\n",
      "[57]\ttrain-rmse:0.062211\teval-rmse:0.065106\ttrain-rmspe:0.061744\teval-rmspe:0.064923\n",
      "[58]\ttrain-rmse:0.062046\teval-rmse:0.06499\ttrain-rmspe:0.061593\teval-rmspe:0.064808\n",
      "[59]\ttrain-rmse:0.061829\teval-rmse:0.064802\ttrain-rmspe:0.061381\teval-rmspe:0.064628\n",
      "[60]\ttrain-rmse:0.061672\teval-rmse:0.064694\ttrain-rmspe:0.06123\teval-rmspe:0.064529\n",
      "[61]\ttrain-rmse:0.061585\teval-rmse:0.064657\ttrain-rmspe:0.061142\teval-rmspe:0.064495\n",
      "[62]\ttrain-rmse:0.061462\teval-rmse:0.064618\ttrain-rmspe:0.06102\teval-rmspe:0.064456\n",
      "[63]\ttrain-rmse:0.061241\teval-rmse:0.064442\ttrain-rmspe:0.0608\teval-rmspe:0.064285\n",
      "[64]\ttrain-rmse:0.061066\teval-rmse:0.064315\ttrain-rmspe:0.060618\teval-rmspe:0.064157\n",
      "[65]\ttrain-rmse:0.060887\teval-rmse:0.064152\ttrain-rmspe:0.060436\teval-rmspe:0.06399\n",
      "[66]\ttrain-rmse:0.060696\teval-rmse:0.064021\ttrain-rmspe:0.060242\teval-rmspe:0.063839\n",
      "[67]\ttrain-rmse:0.060528\teval-rmse:0.063895\ttrain-rmspe:0.060074\teval-rmspe:0.063708\n",
      "[68]\ttrain-rmse:0.060433\teval-rmse:0.063868\ttrain-rmspe:0.059981\teval-rmspe:0.063684\n",
      "[69]\ttrain-rmse:0.06028\teval-rmse:0.06379\ttrain-rmspe:0.059843\teval-rmspe:0.063603\n",
      "[70]\ttrain-rmse:0.060063\teval-rmse:0.063569\ttrain-rmspe:0.059634\teval-rmspe:0.063385\n",
      "[71]\ttrain-rmse:0.05989\teval-rmse:0.063461\ttrain-rmspe:0.059466\teval-rmspe:0.063281\n",
      "[72]\ttrain-rmse:0.059717\teval-rmse:0.063365\ttrain-rmspe:0.059294\teval-rmspe:0.063185\n",
      "[73]\ttrain-rmse:0.059534\teval-rmse:0.063213\ttrain-rmspe:0.059111\teval-rmspe:0.063027\n",
      "[74]\ttrain-rmse:0.059377\teval-rmse:0.063106\ttrain-rmspe:0.058954\teval-rmspe:0.062922\n",
      "[75]\ttrain-rmse:0.059291\teval-rmse:0.063044\ttrain-rmspe:0.058867\teval-rmspe:0.062866\n",
      "[76]\ttrain-rmse:0.059212\teval-rmse:0.063031\ttrain-rmspe:0.058788\teval-rmspe:0.062857\n",
      "[77]\ttrain-rmse:0.059142\teval-rmse:0.062972\ttrain-rmspe:0.058717\teval-rmspe:0.062792\n",
      "[78]\ttrain-rmse:0.059005\teval-rmse:0.062867\ttrain-rmspe:0.058583\teval-rmspe:0.06268\n",
      "[79]\ttrain-rmse:0.058936\teval-rmse:0.062844\ttrain-rmspe:0.058514\teval-rmspe:0.062661\n",
      "[80]\ttrain-rmse:0.058823\teval-rmse:0.062769\ttrain-rmspe:0.058398\teval-rmspe:0.062584\n",
      "[81]\ttrain-rmse:0.058658\teval-rmse:0.062728\ttrain-rmspe:0.058237\teval-rmspe:0.062538\n",
      "[82]\ttrain-rmse:0.058514\teval-rmse:0.062634\ttrain-rmspe:0.05811\teval-rmspe:0.062444\n",
      "[83]\ttrain-rmse:0.058364\teval-rmse:0.062553\ttrain-rmspe:0.057961\teval-rmspe:0.062363\n",
      "[84]\ttrain-rmse:0.058283\teval-rmse:0.062505\ttrain-rmspe:0.057878\teval-rmspe:0.062317\n",
      "[85]\ttrain-rmse:0.058207\teval-rmse:0.062479\ttrain-rmspe:0.057804\teval-rmspe:0.062293\n",
      "[86]\ttrain-rmse:0.058116\teval-rmse:0.062448\ttrain-rmspe:0.057712\teval-rmspe:0.062259\n",
      "[87]\ttrain-rmse:0.057943\teval-rmse:0.062324\ttrain-rmspe:0.057542\teval-rmspe:0.062133\n",
      "[88]\ttrain-rmse:0.057828\teval-rmse:0.062287\ttrain-rmspe:0.057432\teval-rmspe:0.062102\n",
      "[89]\ttrain-rmse:0.057768\teval-rmse:0.062244\ttrain-rmspe:0.057373\teval-rmspe:0.062061\n",
      "[90]\ttrain-rmse:0.057702\teval-rmse:0.062204\ttrain-rmspe:0.057308\teval-rmspe:0.062023\n",
      "[91]\ttrain-rmse:0.057614\teval-rmse:0.062143\ttrain-rmspe:0.05722\teval-rmspe:0.061965\n",
      "[92]\ttrain-rmse:0.057454\teval-rmse:0.062048\ttrain-rmspe:0.05706\teval-rmspe:0.061866\n",
      "[93]\ttrain-rmse:0.057371\teval-rmse:0.062033\ttrain-rmspe:0.056981\teval-rmspe:0.061854\n",
      "[94]\ttrain-rmse:0.057211\teval-rmse:0.061915\ttrain-rmspe:0.056822\teval-rmspe:0.061732\n",
      "[95]\ttrain-rmse:0.05709\teval-rmse:0.061858\ttrain-rmspe:0.056705\teval-rmspe:0.061672\n"
     ]
    },
    {
     "name": "stdout",
     "output_type": "stream",
     "text": [
      "[96]\ttrain-rmse:0.056968\teval-rmse:0.061763\ttrain-rmspe:0.056582\teval-rmspe:0.061583\n",
      "[97]\ttrain-rmse:0.056926\teval-rmse:0.061758\ttrain-rmspe:0.056541\teval-rmspe:0.061576\n",
      "[98]\ttrain-rmse:0.056807\teval-rmse:0.061665\ttrain-rmspe:0.056427\teval-rmspe:0.061489\n",
      "[99]\ttrain-rmse:0.056707\teval-rmse:0.061638\ttrain-rmspe:0.056331\teval-rmspe:0.061458\n",
      "[100]\ttrain-rmse:0.056593\teval-rmse:0.061612\ttrain-rmspe:0.056228\teval-rmspe:0.061432\n",
      "[101]\ttrain-rmse:0.056506\teval-rmse:0.061569\ttrain-rmspe:0.056142\teval-rmspe:0.061392\n",
      "[102]\ttrain-rmse:0.056449\teval-rmse:0.061571\ttrain-rmspe:0.056083\teval-rmspe:0.061403\n",
      "[103]\ttrain-rmse:0.056324\teval-rmse:0.061428\ttrain-rmspe:0.055961\teval-rmspe:0.061269\n",
      "[104]\ttrain-rmse:0.056235\teval-rmse:0.061375\ttrain-rmspe:0.055871\teval-rmspe:0.061211\n",
      "[105]\ttrain-rmse:0.056199\teval-rmse:0.061359\ttrain-rmspe:0.055836\teval-rmspe:0.061198\n",
      "[106]\ttrain-rmse:0.056091\teval-rmse:0.061286\ttrain-rmspe:0.055728\teval-rmspe:0.061125\n",
      "[107]\ttrain-rmse:0.056015\teval-rmse:0.061272\ttrain-rmspe:0.055652\teval-rmspe:0.061111\n",
      "[108]\ttrain-rmse:0.055934\teval-rmse:0.061207\ttrain-rmspe:0.055573\teval-rmspe:0.061044\n",
      "[109]\ttrain-rmse:0.055836\teval-rmse:0.061135\ttrain-rmspe:0.055476\teval-rmspe:0.060972\n",
      "[110]\ttrain-rmse:0.055724\teval-rmse:0.061066\ttrain-rmspe:0.055367\teval-rmspe:0.060904\n",
      "[111]\ttrain-rmse:0.055608\teval-rmse:0.061019\ttrain-rmspe:0.055254\teval-rmspe:0.060858\n",
      "[112]\ttrain-rmse:0.055512\teval-rmse:0.060996\ttrain-rmspe:0.055162\teval-rmspe:0.060834\n",
      "[113]\ttrain-rmse:0.055448\teval-rmse:0.06096\ttrain-rmspe:0.055101\teval-rmspe:0.060801\n",
      "[114]\ttrain-rmse:0.055374\teval-rmse:0.060943\ttrain-rmspe:0.055029\teval-rmspe:0.060782\n",
      "[115]\ttrain-rmse:0.05528\teval-rmse:0.060873\ttrain-rmspe:0.054935\teval-rmspe:0.060709\n",
      "[116]\ttrain-rmse:0.0552\teval-rmse:0.060838\ttrain-rmspe:0.054855\teval-rmspe:0.060671\n",
      "[117]\ttrain-rmse:0.055095\teval-rmse:0.060768\ttrain-rmspe:0.054756\teval-rmspe:0.060602\n",
      "[118]\ttrain-rmse:0.055015\teval-rmse:0.060721\ttrain-rmspe:0.05468\teval-rmspe:0.060563\n",
      "[119]\ttrain-rmse:0.054987\teval-rmse:0.060715\ttrain-rmspe:0.054651\teval-rmspe:0.060555\n",
      "[120]\ttrain-rmse:0.05492\teval-rmse:0.060718\ttrain-rmspe:0.054584\teval-rmspe:0.060557\n",
      "[121]\ttrain-rmse:0.054824\teval-rmse:0.060674\ttrain-rmspe:0.054491\teval-rmspe:0.060517\n",
      "[122]\ttrain-rmse:0.05475\teval-rmse:0.060633\ttrain-rmspe:0.054416\teval-rmspe:0.060465\n",
      "[123]\ttrain-rmse:0.054686\teval-rmse:0.060617\ttrain-rmspe:0.054352\teval-rmspe:0.060455\n",
      "[124]\ttrain-rmse:0.05464\teval-rmse:0.060589\ttrain-rmspe:0.054307\teval-rmspe:0.060418\n",
      "[125]\ttrain-rmse:0.054532\teval-rmse:0.060502\ttrain-rmspe:0.054201\teval-rmspe:0.060332\n",
      "[126]\ttrain-rmse:0.054457\teval-rmse:0.060468\ttrain-rmspe:0.054128\teval-rmspe:0.060299\n",
      "[127]\ttrain-rmse:0.054339\teval-rmse:0.060364\ttrain-rmspe:0.054031\teval-rmspe:0.0602\n",
      "[128]\ttrain-rmse:0.054273\teval-rmse:0.060337\ttrain-rmspe:0.053966\teval-rmspe:0.060175\n",
      "[129]\ttrain-rmse:0.054162\teval-rmse:0.060291\ttrain-rmspe:0.053855\teval-rmspe:0.060131\n",
      "[130]\ttrain-rmse:0.054071\teval-rmse:0.060216\ttrain-rmspe:0.053765\teval-rmspe:0.060058\n",
      "[131]\ttrain-rmse:0.053996\teval-rmse:0.060153\ttrain-rmspe:0.053693\teval-rmspe:0.060001\n",
      "[132]\ttrain-rmse:0.053926\teval-rmse:0.060152\ttrain-rmspe:0.053623\teval-rmspe:0.059995\n",
      "[133]\ttrain-rmse:0.053888\teval-rmse:0.06015\ttrain-rmspe:0.053584\teval-rmspe:0.059988\n",
      "[134]\ttrain-rmse:0.053819\teval-rmse:0.060134\ttrain-rmspe:0.053519\teval-rmspe:0.05997\n",
      "[135]\ttrain-rmse:0.053779\teval-rmse:0.060111\ttrain-rmspe:0.053476\teval-rmspe:0.059936\n",
      "[136]\ttrain-rmse:0.053695\teval-rmse:0.060111\ttrain-rmspe:0.053395\teval-rmspe:0.059944\n",
      "[137]\ttrain-rmse:0.053617\teval-rmse:0.060041\ttrain-rmspe:0.053318\teval-rmspe:0.059884\n",
      "[138]\ttrain-rmse:0.053539\teval-rmse:0.060019\ttrain-rmspe:0.053246\teval-rmspe:0.059865\n",
      "[139]\ttrain-rmse:0.053491\teval-rmse:0.060021\ttrain-rmspe:0.053204\teval-rmspe:0.059869\n",
      "[140]\ttrain-rmse:0.053415\teval-rmse:0.059976\ttrain-rmspe:0.053131\teval-rmspe:0.059829\n",
      "[141]\ttrain-rmse:0.053371\teval-rmse:0.059954\ttrain-rmspe:0.053087\teval-rmspe:0.059805\n",
      "[142]\ttrain-rmse:0.05332\teval-rmse:0.059935\ttrain-rmspe:0.053039\teval-rmspe:0.05979\n",
      "[143]\ttrain-rmse:0.053304\teval-rmse:0.05993\ttrain-rmspe:0.053022\teval-rmspe:0.059782\n",
      "[144]\ttrain-rmse:0.053257\teval-rmse:0.059905\ttrain-rmspe:0.052976\teval-rmspe:0.059755\n",
      "[145]\ttrain-rmse:0.053203\teval-rmse:0.059913\ttrain-rmspe:0.052923\teval-rmspe:0.05977\n",
      "[146]\ttrain-rmse:0.053154\teval-rmse:0.059878\ttrain-rmspe:0.052873\teval-rmspe:0.059737\n",
      "[147]\ttrain-rmse:0.053097\teval-rmse:0.059844\ttrain-rmspe:0.052817\teval-rmspe:0.059706\n",
      "[148]\ttrain-rmse:0.053062\teval-rmse:0.059852\ttrain-rmspe:0.052783\teval-rmspe:0.05971\n",
      "[149]\ttrain-rmse:0.053011\teval-rmse:0.059814\ttrain-rmspe:0.052731\teval-rmspe:0.059673\n",
      "[150]\ttrain-rmse:0.052955\teval-rmse:0.059786\ttrain-rmspe:0.052674\teval-rmspe:0.059645\n",
      "[151]\ttrain-rmse:0.05284\teval-rmse:0.059697\ttrain-rmspe:0.052569\teval-rmspe:0.059558\n",
      "[152]\ttrain-rmse:0.052797\teval-rmse:0.059681\ttrain-rmspe:0.052526\teval-rmspe:0.059543\n",
      "[153]\ttrain-rmse:0.05267\teval-rmse:0.059592\ttrain-rmspe:0.052404\teval-rmspe:0.05946\n",
      "[154]\ttrain-rmse:0.052597\teval-rmse:0.05953\ttrain-rmspe:0.052331\teval-rmspe:0.059401\n",
      "[155]\ttrain-rmse:0.052491\teval-rmse:0.059499\ttrain-rmspe:0.052221\teval-rmspe:0.059374\n",
      "[156]\ttrain-rmse:0.052427\teval-rmse:0.059479\ttrain-rmspe:0.052161\teval-rmspe:0.059355\n",
      "[157]\ttrain-rmse:0.052391\teval-rmse:0.059462\ttrain-rmspe:0.052126\teval-rmspe:0.059338\n",
      "[158]\ttrain-rmse:0.052317\teval-rmse:0.059423\ttrain-rmspe:0.052053\teval-rmspe:0.059305\n",
      "[159]\ttrain-rmse:0.052277\teval-rmse:0.0594\ttrain-rmspe:0.052013\teval-rmspe:0.059283\n",
      "[160]\ttrain-rmse:0.052219\teval-rmse:0.059374\ttrain-rmspe:0.051956\teval-rmspe:0.059251\n",
      "[161]\ttrain-rmse:0.052153\teval-rmse:0.059362\ttrain-rmspe:0.051893\teval-rmspe:0.059245\n",
      "[162]\ttrain-rmse:0.05206\teval-rmse:0.059326\ttrain-rmspe:0.0518\teval-rmspe:0.059213\n",
      "[163]\ttrain-rmse:0.052036\teval-rmse:0.059319\ttrain-rmspe:0.051776\teval-rmspe:0.059206\n",
      "[164]\ttrain-rmse:0.051984\teval-rmse:0.059302\ttrain-rmspe:0.051724\teval-rmspe:0.059191\n",
      "[165]\ttrain-rmse:0.051927\teval-rmse:0.059274\ttrain-rmspe:0.051669\teval-rmspe:0.059164\n",
      "[166]\ttrain-rmse:0.051877\teval-rmse:0.059272\ttrain-rmspe:0.051619\teval-rmspe:0.059162\n",
      "[167]\ttrain-rmse:0.051784\teval-rmse:0.059257\ttrain-rmspe:0.051527\teval-rmspe:0.059147\n",
      "[168]\ttrain-rmse:0.051726\teval-rmse:0.059237\ttrain-rmspe:0.051469\teval-rmspe:0.05913\n",
      "[169]\ttrain-rmse:0.051675\teval-rmse:0.059208\ttrain-rmspe:0.051417\teval-rmspe:0.059099\n",
      "[170]\ttrain-rmse:0.051621\teval-rmse:0.059164\ttrain-rmspe:0.051365\teval-rmspe:0.059054\n",
      "[171]\ttrain-rmse:0.051542\teval-rmse:0.059132\ttrain-rmspe:0.051285\teval-rmspe:0.059023\n",
      "[172]\ttrain-rmse:0.051496\teval-rmse:0.059109\ttrain-rmspe:0.051239\teval-rmspe:0.059001\n",
      "[173]\ttrain-rmse:0.051436\teval-rmse:0.059092\ttrain-rmspe:0.051183\teval-rmspe:0.058985\n",
      "[174]\ttrain-rmse:0.051391\teval-rmse:0.059074\ttrain-rmspe:0.051138\teval-rmspe:0.058967\n",
      "[175]\ttrain-rmse:0.051349\teval-rmse:0.059062\ttrain-rmspe:0.051097\teval-rmspe:0.058954\n",
      "[176]\ttrain-rmse:0.051329\teval-rmse:0.059063\ttrain-rmspe:0.051077\teval-rmspe:0.058954\n",
      "[177]\ttrain-rmse:0.051258\teval-rmse:0.059034\ttrain-rmspe:0.051006\teval-rmspe:0.058926\n",
      "[178]\ttrain-rmse:0.051195\teval-rmse:0.059017\ttrain-rmspe:0.050944\teval-rmspe:0.058913\n",
      "[179]\ttrain-rmse:0.051145\teval-rmse:0.059017\ttrain-rmspe:0.050898\teval-rmspe:0.058917\n",
      "[180]\ttrain-rmse:0.051084\teval-rmse:0.058993\ttrain-rmspe:0.050838\teval-rmspe:0.058894\n",
      "[181]\ttrain-rmse:0.051055\teval-rmse:0.058986\ttrain-rmspe:0.050809\teval-rmspe:0.058886\n",
      "[182]\ttrain-rmse:0.050993\teval-rmse:0.058972\ttrain-rmspe:0.050753\teval-rmspe:0.058874\n",
      "[183]\ttrain-rmse:0.050981\teval-rmse:0.058963\ttrain-rmspe:0.05074\teval-rmspe:0.058864\n",
      "[184]\ttrain-rmse:0.050931\teval-rmse:0.05894\ttrain-rmspe:0.050692\teval-rmspe:0.058841\n",
      "[185]\ttrain-rmse:0.05091\teval-rmse:0.058926\ttrain-rmspe:0.050671\teval-rmspe:0.058828\n",
      "[186]\ttrain-rmse:0.05085\teval-rmse:0.058895\ttrain-rmspe:0.05061\teval-rmspe:0.058796\n",
      "[187]\ttrain-rmse:0.050817\teval-rmse:0.058878\ttrain-rmspe:0.050578\teval-rmspe:0.05878\n",
      "[188]\ttrain-rmse:0.050783\teval-rmse:0.058874\ttrain-rmspe:0.050543\teval-rmspe:0.058769\n",
      "[189]\ttrain-rmse:0.050755\teval-rmse:0.058867\ttrain-rmspe:0.050515\teval-rmspe:0.058764\n",
      "[190]\ttrain-rmse:0.050722\teval-rmse:0.058852\ttrain-rmspe:0.050482\teval-rmspe:0.058748\n",
      "[191]\ttrain-rmse:0.050685\teval-rmse:0.058859\ttrain-rmspe:0.050446\teval-rmspe:0.058752\n"
     ]
    },
    {
     "name": "stdout",
     "output_type": "stream",
     "text": [
      "[192]\ttrain-rmse:0.050629\teval-rmse:0.058849\ttrain-rmspe:0.05039\teval-rmspe:0.058746\n",
      "[193]\ttrain-rmse:0.050585\teval-rmse:0.058841\ttrain-rmspe:0.050345\teval-rmspe:0.058736\n",
      "[194]\ttrain-rmse:0.0505\teval-rmse:0.058813\ttrain-rmspe:0.050263\teval-rmspe:0.058709\n",
      "[195]\ttrain-rmse:0.05045\teval-rmse:0.058787\ttrain-rmspe:0.050213\teval-rmspe:0.058681\n",
      "[196]\ttrain-rmse:0.050422\teval-rmse:0.058764\ttrain-rmspe:0.050185\teval-rmspe:0.058654\n",
      "[197]\ttrain-rmse:0.050379\teval-rmse:0.05876\ttrain-rmspe:0.050146\teval-rmspe:0.058652\n",
      "[198]\ttrain-rmse:0.050325\teval-rmse:0.05873\ttrain-rmspe:0.050092\teval-rmspe:0.058626\n",
      "[199]\ttrain-rmse:0.05027\teval-rmse:0.058723\ttrain-rmspe:0.050043\teval-rmspe:0.058617\n",
      "[200]\ttrain-rmse:0.050218\teval-rmse:0.058706\ttrain-rmspe:0.04999\teval-rmspe:0.058602\n",
      "[201]\ttrain-rmse:0.050171\teval-rmse:0.058681\ttrain-rmspe:0.049944\teval-rmspe:0.058579\n",
      "[202]\ttrain-rmse:0.050121\teval-rmse:0.058668\ttrain-rmspe:0.049894\teval-rmspe:0.058563\n",
      "[203]\ttrain-rmse:0.05008\teval-rmse:0.058663\ttrain-rmspe:0.049853\teval-rmspe:0.058557\n",
      "[204]\ttrain-rmse:0.050032\teval-rmse:0.058662\ttrain-rmspe:0.049807\teval-rmspe:0.058558\n",
      "[205]\ttrain-rmse:0.049988\teval-rmse:0.058653\ttrain-rmspe:0.049765\teval-rmspe:0.05855\n",
      "[206]\ttrain-rmse:0.049941\teval-rmse:0.058633\ttrain-rmspe:0.049719\teval-rmspe:0.058531\n",
      "[207]\ttrain-rmse:0.049891\teval-rmse:0.058606\ttrain-rmspe:0.04967\teval-rmspe:0.058506\n",
      "[208]\ttrain-rmse:0.049847\teval-rmse:0.058609\ttrain-rmspe:0.049625\teval-rmspe:0.058511\n",
      "[209]\ttrain-rmse:0.049787\teval-rmse:0.058589\ttrain-rmspe:0.04957\teval-rmspe:0.058494\n",
      "[210]\ttrain-rmse:0.049728\teval-rmse:0.05856\ttrain-rmspe:0.049513\teval-rmspe:0.058464\n",
      "[211]\ttrain-rmse:0.049686\teval-rmse:0.058546\ttrain-rmspe:0.049471\teval-rmspe:0.058451\n",
      "[212]\ttrain-rmse:0.049672\teval-rmse:0.05856\ttrain-rmspe:0.049457\teval-rmspe:0.058469\n",
      "[213]\ttrain-rmse:0.049641\teval-rmse:0.058534\ttrain-rmspe:0.049427\teval-rmspe:0.058442\n",
      "[214]\ttrain-rmse:0.0496\teval-rmse:0.05853\ttrain-rmspe:0.049387\teval-rmspe:0.058439\n",
      "[215]\ttrain-rmse:0.049545\teval-rmse:0.058522\ttrain-rmspe:0.049333\teval-rmspe:0.058432\n",
      "[216]\ttrain-rmse:0.049494\teval-rmse:0.058498\ttrain-rmspe:0.049282\teval-rmspe:0.05841\n",
      "[217]\ttrain-rmse:0.049452\teval-rmse:0.058463\ttrain-rmspe:0.049241\teval-rmspe:0.058376\n",
      "[218]\ttrain-rmse:0.049433\teval-rmse:0.058454\ttrain-rmspe:0.049221\teval-rmspe:0.058368\n",
      "[219]\ttrain-rmse:0.04939\teval-rmse:0.058449\ttrain-rmspe:0.049178\teval-rmspe:0.058362\n",
      "[220]\ttrain-rmse:0.049358\teval-rmse:0.058421\ttrain-rmspe:0.049147\teval-rmspe:0.058337\n",
      "[221]\ttrain-rmse:0.049336\teval-rmse:0.058412\ttrain-rmspe:0.049123\teval-rmspe:0.058327\n",
      "[222]\ttrain-rmse:0.049259\teval-rmse:0.058374\ttrain-rmspe:0.049045\teval-rmspe:0.058279\n",
      "[223]\ttrain-rmse:0.049228\teval-rmse:0.058374\ttrain-rmspe:0.049014\teval-rmspe:0.058279\n",
      "[224]\ttrain-rmse:0.049183\teval-rmse:0.05836\ttrain-rmspe:0.048968\teval-rmspe:0.058264\n",
      "[225]\ttrain-rmse:0.049141\teval-rmse:0.058349\ttrain-rmspe:0.048929\teval-rmspe:0.058254\n",
      "[226]\ttrain-rmse:0.049126\teval-rmse:0.058342\ttrain-rmspe:0.048915\teval-rmspe:0.058253\n",
      "[227]\ttrain-rmse:0.049083\teval-rmse:0.058327\ttrain-rmspe:0.048871\teval-rmspe:0.058238\n",
      "[228]\ttrain-rmse:0.049037\teval-rmse:0.058305\ttrain-rmspe:0.048827\teval-rmspe:0.058217\n",
      "[229]\ttrain-rmse:0.048995\teval-rmse:0.058307\ttrain-rmspe:0.048787\teval-rmspe:0.058221\n",
      "[230]\ttrain-rmse:0.048947\teval-rmse:0.058276\ttrain-rmspe:0.048747\teval-rmspe:0.058194\n",
      "[231]\ttrain-rmse:0.048927\teval-rmse:0.058268\ttrain-rmspe:0.048726\teval-rmspe:0.058187\n",
      "[232]\ttrain-rmse:0.048904\teval-rmse:0.058259\ttrain-rmspe:0.048705\teval-rmspe:0.058179\n",
      "[233]\ttrain-rmse:0.048865\teval-rmse:0.058225\ttrain-rmspe:0.048667\teval-rmspe:0.058147\n",
      "[234]\ttrain-rmse:0.048815\teval-rmse:0.058169\ttrain-rmspe:0.048618\teval-rmspe:0.058097\n",
      "[235]\ttrain-rmse:0.048759\teval-rmse:0.058151\ttrain-rmspe:0.048561\teval-rmspe:0.05808\n",
      "[236]\ttrain-rmse:0.048719\teval-rmse:0.058136\ttrain-rmspe:0.048523\teval-rmspe:0.058062\n",
      "[237]\ttrain-rmse:0.048697\teval-rmse:0.058116\ttrain-rmspe:0.048502\teval-rmspe:0.05805\n",
      "[238]\ttrain-rmse:0.048652\teval-rmse:0.058096\ttrain-rmspe:0.048458\teval-rmspe:0.058029\n",
      "[239]\ttrain-rmse:0.048618\teval-rmse:0.058071\ttrain-rmspe:0.048423\teval-rmspe:0.058006\n",
      "[240]\ttrain-rmse:0.048585\teval-rmse:0.058053\ttrain-rmspe:0.04839\teval-rmspe:0.057987\n",
      "[241]\ttrain-rmse:0.048544\teval-rmse:0.058032\ttrain-rmspe:0.04835\teval-rmspe:0.05796\n",
      "[242]\ttrain-rmse:0.048495\teval-rmse:0.058022\ttrain-rmspe:0.048302\teval-rmspe:0.05795\n",
      "[243]\ttrain-rmse:0.048448\teval-rmse:0.057999\ttrain-rmspe:0.048257\teval-rmspe:0.057928\n",
      "[244]\ttrain-rmse:0.048417\teval-rmse:0.057989\ttrain-rmspe:0.048227\teval-rmspe:0.05792\n",
      "[245]\ttrain-rmse:0.048359\teval-rmse:0.057984\ttrain-rmspe:0.048176\teval-rmspe:0.057916\n",
      "[246]\ttrain-rmse:0.048316\teval-rmse:0.057988\ttrain-rmspe:0.048132\teval-rmspe:0.057919\n",
      "[247]\ttrain-rmse:0.048274\teval-rmse:0.057954\ttrain-rmspe:0.048092\teval-rmspe:0.057889\n",
      "[248]\ttrain-rmse:0.048241\teval-rmse:0.057952\ttrain-rmspe:0.048059\teval-rmspe:0.057886\n",
      "[249]\ttrain-rmse:0.048205\teval-rmse:0.057948\ttrain-rmspe:0.048022\teval-rmspe:0.057882\n",
      "[250]\ttrain-rmse:0.048171\teval-rmse:0.057942\ttrain-rmspe:0.047987\teval-rmspe:0.057875\n",
      "[251]\ttrain-rmse:0.048132\teval-rmse:0.057923\ttrain-rmspe:0.047949\teval-rmspe:0.057856\n",
      "[252]\ttrain-rmse:0.048084\teval-rmse:0.057897\ttrain-rmspe:0.047903\teval-rmspe:0.057833\n",
      "[253]\ttrain-rmse:0.048042\teval-rmse:0.05791\ttrain-rmspe:0.047861\teval-rmspe:0.057846\n",
      "[254]\ttrain-rmse:0.047995\teval-rmse:0.05789\ttrain-rmspe:0.047813\teval-rmspe:0.057823\n",
      "[255]\ttrain-rmse:0.047956\teval-rmse:0.057866\ttrain-rmspe:0.047777\teval-rmspe:0.057801\n",
      "[256]\ttrain-rmse:0.047928\teval-rmse:0.05787\ttrain-rmspe:0.04775\teval-rmspe:0.057805\n",
      "[257]\ttrain-rmse:0.047884\teval-rmse:0.057864\ttrain-rmspe:0.047707\teval-rmspe:0.057799\n",
      "[258]\ttrain-rmse:0.047865\teval-rmse:0.057867\ttrain-rmspe:0.047689\teval-rmspe:0.057803\n",
      "[259]\ttrain-rmse:0.047818\teval-rmse:0.057857\ttrain-rmspe:0.047643\teval-rmspe:0.057794\n",
      "[260]\ttrain-rmse:0.047774\teval-rmse:0.057853\ttrain-rmspe:0.047598\teval-rmspe:0.057788\n",
      "[261]\ttrain-rmse:0.047747\teval-rmse:0.057839\ttrain-rmspe:0.047572\teval-rmspe:0.057775\n",
      "[262]\ttrain-rmse:0.047731\teval-rmse:0.057827\ttrain-rmspe:0.047556\teval-rmspe:0.057764\n",
      "[263]\ttrain-rmse:0.047697\teval-rmse:0.057831\ttrain-rmspe:0.047522\teval-rmspe:0.057765\n",
      "[264]\ttrain-rmse:0.047664\teval-rmse:0.057807\ttrain-rmspe:0.047491\teval-rmspe:0.057744\n",
      "[265]\ttrain-rmse:0.047622\teval-rmse:0.057791\ttrain-rmspe:0.04745\teval-rmspe:0.057729\n",
      "[266]\ttrain-rmse:0.047581\teval-rmse:0.057785\ttrain-rmspe:0.047409\teval-rmspe:0.057724\n",
      "[267]\ttrain-rmse:0.047548\teval-rmse:0.05778\ttrain-rmspe:0.047374\teval-rmspe:0.057719\n",
      "[268]\ttrain-rmse:0.047523\teval-rmse:0.057773\ttrain-rmspe:0.047349\teval-rmspe:0.057713\n",
      "[269]\ttrain-rmse:0.047494\teval-rmse:0.057775\ttrain-rmspe:0.04732\teval-rmspe:0.057715\n",
      "[270]\ttrain-rmse:0.047455\teval-rmse:0.057803\ttrain-rmspe:0.047283\teval-rmspe:0.057755\n",
      "[271]\ttrain-rmse:0.047422\teval-rmse:0.057798\ttrain-rmspe:0.047249\teval-rmspe:0.057752\n",
      "[272]\ttrain-rmse:0.047379\teval-rmse:0.057783\ttrain-rmspe:0.047206\teval-rmspe:0.057734\n",
      "[273]\ttrain-rmse:0.047341\teval-rmse:0.057775\ttrain-rmspe:0.047168\teval-rmspe:0.057725\n",
      "[274]\ttrain-rmse:0.047301\teval-rmse:0.05776\ttrain-rmspe:0.047128\teval-rmspe:0.057714\n",
      "[275]\ttrain-rmse:0.047275\teval-rmse:0.057759\ttrain-rmspe:0.047102\teval-rmspe:0.057713\n",
      "[276]\ttrain-rmse:0.047233\teval-rmse:0.057732\ttrain-rmspe:0.047059\teval-rmspe:0.057687\n",
      "[277]\ttrain-rmse:0.047204\teval-rmse:0.057721\ttrain-rmspe:0.047029\teval-rmspe:0.057675\n",
      "[278]\ttrain-rmse:0.047173\teval-rmse:0.057726\ttrain-rmspe:0.046999\teval-rmspe:0.057676\n",
      "[279]\ttrain-rmse:0.04714\teval-rmse:0.057721\ttrain-rmspe:0.046965\teval-rmspe:0.057673\n",
      "[280]\ttrain-rmse:0.047114\teval-rmse:0.057724\ttrain-rmspe:0.04694\teval-rmspe:0.057675\n",
      "[281]\ttrain-rmse:0.047092\teval-rmse:0.057716\ttrain-rmspe:0.046918\teval-rmspe:0.057669\n",
      "[282]\ttrain-rmse:0.047057\teval-rmse:0.057717\ttrain-rmspe:0.046883\teval-rmspe:0.057671\n",
      "[283]\ttrain-rmse:0.04702\teval-rmse:0.057709\ttrain-rmspe:0.046847\teval-rmspe:0.057663\n",
      "[284]\ttrain-rmse:0.04699\teval-rmse:0.057699\ttrain-rmspe:0.046817\teval-rmspe:0.057653\n",
      "[285]\ttrain-rmse:0.046956\teval-rmse:0.0577\ttrain-rmspe:0.046783\teval-rmspe:0.057654\n",
      "[286]\ttrain-rmse:0.046935\teval-rmse:0.057706\ttrain-rmspe:0.046762\teval-rmspe:0.057662\n",
      "[287]\ttrain-rmse:0.046894\teval-rmse:0.05769\ttrain-rmspe:0.046722\teval-rmspe:0.05765\n"
     ]
    },
    {
     "name": "stdout",
     "output_type": "stream",
     "text": [
      "[288]\ttrain-rmse:0.04685\teval-rmse:0.057687\ttrain-rmspe:0.046677\teval-rmspe:0.057647\n",
      "[289]\ttrain-rmse:0.046816\teval-rmse:0.057694\ttrain-rmspe:0.046644\teval-rmspe:0.057653\n",
      "[290]\ttrain-rmse:0.046769\teval-rmse:0.057692\ttrain-rmspe:0.046595\teval-rmspe:0.057651\n",
      "[291]\ttrain-rmse:0.046731\teval-rmse:0.057696\ttrain-rmspe:0.04656\teval-rmspe:0.057655\n",
      "[292]\ttrain-rmse:0.046704\teval-rmse:0.057697\ttrain-rmspe:0.046533\teval-rmspe:0.057655\n",
      "[293]\ttrain-rmse:0.046699\teval-rmse:0.057694\ttrain-rmspe:0.046528\teval-rmspe:0.057649\n",
      "[294]\ttrain-rmse:0.046651\teval-rmse:0.057694\ttrain-rmspe:0.046487\teval-rmspe:0.057653\n",
      "[295]\ttrain-rmse:0.046634\teval-rmse:0.057705\ttrain-rmspe:0.046469\teval-rmspe:0.057665\n",
      "[296]\ttrain-rmse:0.046603\teval-rmse:0.057697\ttrain-rmspe:0.046438\teval-rmspe:0.057658\n",
      "[297]\ttrain-rmse:0.046585\teval-rmse:0.057685\ttrain-rmspe:0.046421\teval-rmspe:0.057645\n",
      "[298]\ttrain-rmse:0.046569\teval-rmse:0.057686\ttrain-rmspe:0.046404\teval-rmspe:0.057645\n",
      "[299]\ttrain-rmse:0.046533\teval-rmse:0.057683\ttrain-rmspe:0.046366\teval-rmspe:0.057644\n"
     ]
    }
   ],
   "source": [
    "def rmspe(y, yhat):\n",
    "    return np.sqrt(np.mean((yhat/y-1) ** 2))\n",
    "\n",
    "def rmspe_xg(yhat, y):\n",
    "    y = np.expm1(y.get_label())\n",
    "    yhat = np.expm1(yhat)\n",
    "    return \"rmspe\", rmspe(y,yhat)\n",
    "params = {\"objective\": \"reg:linear\",\n",
    "          \"booster\" : \"gbtree\",\n",
    "          \"eta\": 0.3,\n",
    "          \"max_depth\": 10,\n",
    "          \"subsample\": 0.9,\n",
    "          \"colsample_bytree\": 0.7,\n",
    "          \"silent\": 1,\n",
    "          \"seed\": 1301\n",
    "          }\n",
    "num_boost_round = 300\n",
    "X_train, X_valid = train_test_split(train_data, test_size=0.012, random_state=10)\n",
    "y_train = np.log1p(X_train.Sales)\n",
    "y_valid = np.log1p(X_valid.Sales)\n",
    "dtrain = xgboost.DMatrix(X_train[features], y_train)\n",
    "dvalid = xgboost.DMatrix(X_valid[features], y_valid)\n",
    "watchlist = [(dtrain, 'train'), (dvalid, 'eval')]\n",
    "gbm = xgboost.train(params, dtrain, num_boost_round, evals=watchlist, \\\n",
    "  early_stopping_rounds=100, feval=rmspe_xg, verbose_eval=True)\n"
   ]
  },
  {
   "cell_type": "code",
   "execution_count": null,
   "metadata": {},
   "outputs": [],
   "source": []
  },
  {
   "cell_type": "code",
   "execution_count": 37,
   "metadata": {},
   "outputs": [],
   "source": [
    "dtest = xgboost.DMatrix(test_data[features])"
   ]
  },
  {
   "cell_type": "code",
   "execution_count": 38,
   "metadata": {},
   "outputs": [],
   "source": [
    "test_probs = gbm.predict(dtest)"
   ]
  },
  {
   "cell_type": "code",
   "execution_count": 41,
   "metadata": {},
   "outputs": [
    {
     "data": {
      "text/plain": [
       "Index(['Store', 'DayOfWeek', 'Customers', 'Open', 'Promo', 'StateHoliday',\n",
       "       'SchoolHoliday', 'StoreType', 'Assortment', 'CompetitionDistance',\n",
       "       'CompetitionOpenSinceMonth', 'Promo2', 'CompetitionOpenMonths',\n",
       "       'PromoOpen', 'IsPromoMonth'],\n",
       "      dtype='object')"
      ]
     },
     "execution_count": 41,
     "metadata": {},
     "output_type": "execute_result"
    }
   ],
   "source": [
    "test_data.columns"
   ]
  },
  {
   "cell_type": "code",
   "execution_count": 42,
   "metadata": {},
   "outputs": [],
   "source": [
    "test_data=pd.read_csv(\"test_data_processed.csv\")\n",
    "result = pd.DataFrame({\"Id\": test_data[\"Id\"], 'Sales': np.expm1(test_probs)})\n",
    "result.to_csv(\"Submission13.csv\")"
   ]
  },
  {
   "cell_type": "code",
   "execution_count": 43,
   "metadata": {},
   "outputs": [
    {
     "data": {
      "text/plain": [
       "RandomForestRegressor(bootstrap=True, criterion='mse', max_depth=None,\n",
       "           max_features='auto', max_leaf_nodes=None,\n",
       "           min_impurity_decrease=0.0, min_impurity_split=None,\n",
       "           min_samples_leaf=1, min_samples_split=2,\n",
       "           min_weight_fraction_leaf=0.0, n_estimators=10, n_jobs=1,\n",
       "           oob_score=False, random_state=None, verbose=0, warm_start=False)"
      ]
     },
     "execution_count": 43,
     "metadata": {},
     "output_type": "execute_result"
    }
   ],
   "source": [
    "random_model=RandomForestRegressor()\n",
    "random_model.fit(train_data[features].values,train_data['Sales'].values.ravel())"
   ]
  },
  {
   "cell_type": "code",
   "execution_count": 44,
   "metadata": {},
   "outputs": [],
   "source": [
    "predictions2=random_model.predict(test_data[features].values)"
   ]
  },
  {
   "cell_type": "code",
   "execution_count": 45,
   "metadata": {},
   "outputs": [],
   "source": [
    "result = pd.DataFrame({\"Id\": test_data[\"Id\"], 'Sales': predictions2})\n",
    "result.to_csv(\"Submission14.csv\")"
   ]
  },
  {
   "cell_type": "code",
   "execution_count": null,
   "metadata": {},
   "outputs": [],
   "source": []
  }
 ],
 "metadata": {
  "kernelspec": {
   "display_name": "Python 3",
   "language": "python",
   "name": "python3"
  },
  "language_info": {
   "codemirror_mode": {
    "name": "ipython",
    "version": 3
   },
   "file_extension": ".py",
   "mimetype": "text/x-python",
   "name": "python",
   "nbconvert_exporter": "python",
   "pygments_lexer": "ipython3",
   "version": "3.7.0"
  }
 },
 "nbformat": 4,
 "nbformat_minor": 2
}
